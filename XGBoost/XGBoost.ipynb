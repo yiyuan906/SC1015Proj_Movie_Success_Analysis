{
 "cells": [
  {
   "cell_type": "markdown",
   "id": "648b30de",
   "metadata": {},
   "source": [
    "References:\n",
    "\n",
    "https://www.analyticsvidhya.com/blog/2016/03/complete-guide-parameter-tuning-xgboost-with-codes-python/\n",
    "\n",
    "https://www.youtube.com/watch?v=aLOQD66Sj0g\n",
    "\n",
    "https://contrib.scikit-learn.org/category_encoders/targetencoder.html\n",
    "\n",
    "https://scikit-learn.org/stable/modules/cross_validation.html#stratification\n",
    "\n",
    "https://www.youtube.com/watch?v=PxgVFp5a0E4\n",
    "\n",
    "https://youtu.be/4i4C3ejTdgs?si=XfCjQW5h-ABD0Bu9\n",
    "\n",
    "https://scikit-learn.sourceforge.net/dev/modules/model_evaluation.html (ref to different 'scoring')\n",
    "\n",
    "https://xgboost.readthedocs.io/en/stable/python/python_api.html#xgboost.plot_importance"
   ]
  },
  {
   "cell_type": "code",
   "execution_count": 1,
   "id": "5a14c3c7",
   "metadata": {},
   "outputs": [],
   "source": [
    "import numpy as np\n",
    "import pandas as pd\n",
    "from sklearn.model_selection import train_test_split\n",
    "import seaborn as sb\n",
    "import matplotlib.pyplot as plt \n",
    "sb.set()\n",
    "\n",
    "from sklearn.pipeline import Pipeline\n",
    "from category_encoders.target_encoder import TargetEncoder\n",
    "from xgboost import XGBClassifier\n",
    "\n",
    "from skopt import BayesSearchCV\n",
    "from skopt.space import Real, Categorical, Integer\n",
    "\n",
    "from xgboost import plot_importance\n",
    "\n",
    "pd.set_option('display.max_rows', None)"
   ]
  },
  {
   "cell_type": "code",
   "execution_count": 2,
   "id": "fbce5a47",
   "metadata": {},
   "outputs": [],
   "source": [
    "baseDF = pd.read_csv(\"edaMovies.csv\")"
   ]
  },
  {
   "cell_type": "code",
   "execution_count": 3,
   "id": "f8c1e8c2",
   "metadata": {},
   "outputs": [
    {
     "data": {
      "text/html": [
       "<div>\n",
       "<style scoped>\n",
       "    .dataframe tbody tr th:only-of-type {\n",
       "        vertical-align: middle;\n",
       "    }\n",
       "\n",
       "    .dataframe tbody tr th {\n",
       "        vertical-align: top;\n",
       "    }\n",
       "\n",
       "    .dataframe thead th {\n",
       "        text-align: right;\n",
       "    }\n",
       "</style>\n",
       "<table border=\"1\" class=\"dataframe\">\n",
       "  <thead>\n",
       "    <tr style=\"text-align: right;\">\n",
       "      <th></th>\n",
       "      <th>name</th>\n",
       "      <th>rating</th>\n",
       "      <th>genre</th>\n",
       "      <th>year</th>\n",
       "      <th>released</th>\n",
       "      <th>score</th>\n",
       "      <th>votes</th>\n",
       "      <th>director</th>\n",
       "      <th>writer</th>\n",
       "      <th>star</th>\n",
       "      <th>country</th>\n",
       "      <th>budget</th>\n",
       "      <th>gross</th>\n",
       "      <th>company</th>\n",
       "      <th>runtime</th>\n",
       "      <th>Success</th>\n",
       "    </tr>\n",
       "  </thead>\n",
       "  <tbody>\n",
       "    <tr>\n",
       "      <th>0</th>\n",
       "      <td>The Shining</td>\n",
       "      <td>NC-17</td>\n",
       "      <td>Drama</td>\n",
       "      <td>1980</td>\n",
       "      <td>June 13, 1980 (United States)</td>\n",
       "      <td>8.4</td>\n",
       "      <td>927000.0</td>\n",
       "      <td>Stanley Kubrick</td>\n",
       "      <td>Stephen King</td>\n",
       "      <td>Jack Nicholson</td>\n",
       "      <td>United Kingdom</td>\n",
       "      <td>19000000.0</td>\n",
       "      <td>46998772.0</td>\n",
       "      <td>Warner Bros.</td>\n",
       "      <td>146.0</td>\n",
       "      <td>True</td>\n",
       "    </tr>\n",
       "    <tr>\n",
       "      <th>1</th>\n",
       "      <td>The Blue Lagoon</td>\n",
       "      <td>NC-17</td>\n",
       "      <td>Adventure</td>\n",
       "      <td>1980</td>\n",
       "      <td>July 2, 1980 (United States)</td>\n",
       "      <td>5.8</td>\n",
       "      <td>65000.0</td>\n",
       "      <td>Randal Kleiser</td>\n",
       "      <td>Henry De Vere Stacpoole</td>\n",
       "      <td>Brooke Shields</td>\n",
       "      <td>United States</td>\n",
       "      <td>4500000.0</td>\n",
       "      <td>58853106.0</td>\n",
       "      <td>Columbia Pictures</td>\n",
       "      <td>104.0</td>\n",
       "      <td>True</td>\n",
       "    </tr>\n",
       "    <tr>\n",
       "      <th>2</th>\n",
       "      <td>Star Wars: Episode V - The Empire Strikes Back</td>\n",
       "      <td>PG</td>\n",
       "      <td>Action</td>\n",
       "      <td>1980</td>\n",
       "      <td>June 20, 1980 (United States)</td>\n",
       "      <td>8.7</td>\n",
       "      <td>1200000.0</td>\n",
       "      <td>Irvin Kershner</td>\n",
       "      <td>Leigh Brackett</td>\n",
       "      <td>Mark Hamill</td>\n",
       "      <td>United States</td>\n",
       "      <td>18000000.0</td>\n",
       "      <td>538375067.0</td>\n",
       "      <td>Lucasfilm</td>\n",
       "      <td>124.0</td>\n",
       "      <td>True</td>\n",
       "    </tr>\n",
       "    <tr>\n",
       "      <th>3</th>\n",
       "      <td>Airplane!</td>\n",
       "      <td>PG</td>\n",
       "      <td>Comedy</td>\n",
       "      <td>1980</td>\n",
       "      <td>July 2, 1980 (United States)</td>\n",
       "      <td>7.7</td>\n",
       "      <td>221000.0</td>\n",
       "      <td>Jim Abrahams</td>\n",
       "      <td>Jim Abrahams</td>\n",
       "      <td>Robert Hays</td>\n",
       "      <td>United States</td>\n",
       "      <td>3500000.0</td>\n",
       "      <td>83453539.0</td>\n",
       "      <td>Paramount Pictures</td>\n",
       "      <td>88.0</td>\n",
       "      <td>True</td>\n",
       "    </tr>\n",
       "    <tr>\n",
       "      <th>4</th>\n",
       "      <td>Caddyshack</td>\n",
       "      <td>NC-17</td>\n",
       "      <td>Comedy</td>\n",
       "      <td>1980</td>\n",
       "      <td>July 25, 1980 (United States)</td>\n",
       "      <td>7.3</td>\n",
       "      <td>108000.0</td>\n",
       "      <td>Harold Ramis</td>\n",
       "      <td>Brian Doyle-Murray</td>\n",
       "      <td>Chevy Chase</td>\n",
       "      <td>United States</td>\n",
       "      <td>6000000.0</td>\n",
       "      <td>39846344.0</td>\n",
       "      <td>Orion Pictures</td>\n",
       "      <td>98.0</td>\n",
       "      <td>True</td>\n",
       "    </tr>\n",
       "  </tbody>\n",
       "</table>\n",
       "</div>"
      ],
      "text/plain": [
       "                                             name rating      genre  year  \\\n",
       "0                                     The Shining  NC-17      Drama  1980   \n",
       "1                                 The Blue Lagoon  NC-17  Adventure  1980   \n",
       "2  Star Wars: Episode V - The Empire Strikes Back     PG     Action  1980   \n",
       "3                                       Airplane!     PG     Comedy  1980   \n",
       "4                                      Caddyshack  NC-17     Comedy  1980   \n",
       "\n",
       "                        released  score      votes         director  \\\n",
       "0  June 13, 1980 (United States)    8.4   927000.0  Stanley Kubrick   \n",
       "1   July 2, 1980 (United States)    5.8    65000.0   Randal Kleiser   \n",
       "2  June 20, 1980 (United States)    8.7  1200000.0   Irvin Kershner   \n",
       "3   July 2, 1980 (United States)    7.7   221000.0     Jim Abrahams   \n",
       "4  July 25, 1980 (United States)    7.3   108000.0     Harold Ramis   \n",
       "\n",
       "                    writer            star         country      budget  \\\n",
       "0             Stephen King  Jack Nicholson  United Kingdom  19000000.0   \n",
       "1  Henry De Vere Stacpoole  Brooke Shields   United States   4500000.0   \n",
       "2           Leigh Brackett     Mark Hamill   United States  18000000.0   \n",
       "3             Jim Abrahams     Robert Hays   United States   3500000.0   \n",
       "4       Brian Doyle-Murray     Chevy Chase   United States   6000000.0   \n",
       "\n",
       "         gross             company  runtime  Success  \n",
       "0   46998772.0        Warner Bros.    146.0     True  \n",
       "1   58853106.0   Columbia Pictures    104.0     True  \n",
       "2  538375067.0           Lucasfilm    124.0     True  \n",
       "3   83453539.0  Paramount Pictures     88.0     True  \n",
       "4   39846344.0      Orion Pictures     98.0     True  "
      ]
     },
     "execution_count": 3,
     "metadata": {},
     "output_type": "execute_result"
    }
   ],
   "source": [
    "baseDF.head()"
   ]
  },
  {
   "cell_type": "markdown",
   "id": "3550cdce",
   "metadata": {},
   "source": [
    "## Preparing Data"
   ]
  },
  {
   "cell_type": "code",
   "execution_count": 4,
   "id": "74ab8e46",
   "metadata": {},
   "outputs": [],
   "source": [
    "baseDFF = baseDF.drop(columns=['name','Success','released','gross','runtime','genre',\n",
    "                               'rating','director','writer','star','country','company'])\n",
    "succDF = baseDF[\"Success\"]\n",
    "\n",
    "#stratify ensures proportional split for succDF \n",
    "base_train, base_test, succ_train, succ_test = train_test_split(baseDFF, succDF, stratify=succDF ,test_size=0.2, random_state=20) "
   ]
  },
  {
   "cell_type": "code",
   "execution_count": 5,
   "id": "dca0c9ad",
   "metadata": {},
   "outputs": [
    {
     "data": {
      "text/html": [
       "<div>\n",
       "<style scoped>\n",
       "    .dataframe tbody tr th:only-of-type {\n",
       "        vertical-align: middle;\n",
       "    }\n",
       "\n",
       "    .dataframe tbody tr th {\n",
       "        vertical-align: top;\n",
       "    }\n",
       "\n",
       "    .dataframe thead th {\n",
       "        text-align: right;\n",
       "    }\n",
       "</style>\n",
       "<table border=\"1\" class=\"dataframe\">\n",
       "  <thead>\n",
       "    <tr style=\"text-align: right;\">\n",
       "      <th></th>\n",
       "      <th>year</th>\n",
       "      <th>score</th>\n",
       "      <th>votes</th>\n",
       "      <th>budget</th>\n",
       "    </tr>\n",
       "  </thead>\n",
       "  <tbody>\n",
       "    <tr>\n",
       "      <th>0</th>\n",
       "      <td>1980</td>\n",
       "      <td>8.4</td>\n",
       "      <td>927000.0</td>\n",
       "      <td>19000000.0</td>\n",
       "    </tr>\n",
       "    <tr>\n",
       "      <th>1</th>\n",
       "      <td>1980</td>\n",
       "      <td>5.8</td>\n",
       "      <td>65000.0</td>\n",
       "      <td>4500000.0</td>\n",
       "    </tr>\n",
       "    <tr>\n",
       "      <th>2</th>\n",
       "      <td>1980</td>\n",
       "      <td>8.7</td>\n",
       "      <td>1200000.0</td>\n",
       "      <td>18000000.0</td>\n",
       "    </tr>\n",
       "    <tr>\n",
       "      <th>3</th>\n",
       "      <td>1980</td>\n",
       "      <td>7.7</td>\n",
       "      <td>221000.0</td>\n",
       "      <td>3500000.0</td>\n",
       "    </tr>\n",
       "    <tr>\n",
       "      <th>4</th>\n",
       "      <td>1980</td>\n",
       "      <td>7.3</td>\n",
       "      <td>108000.0</td>\n",
       "      <td>6000000.0</td>\n",
       "    </tr>\n",
       "  </tbody>\n",
       "</table>\n",
       "</div>"
      ],
      "text/plain": [
       "   year  score      votes      budget\n",
       "0  1980    8.4   927000.0  19000000.0\n",
       "1  1980    5.8    65000.0   4500000.0\n",
       "2  1980    8.7  1200000.0  18000000.0\n",
       "3  1980    7.7   221000.0   3500000.0\n",
       "4  1980    7.3   108000.0   6000000.0"
      ]
     },
     "execution_count": 5,
     "metadata": {},
     "output_type": "execute_result"
    }
   ],
   "source": [
    "baseDFF.head()"
   ]
  },
  {
   "cell_type": "markdown",
   "id": "2cbc8f17",
   "metadata": {},
   "source": [
    "## Establishing Pipeline to be used for XGBoost"
   ]
  },
  {
   "cell_type": "code",
   "execution_count": 6,
   "id": "1394ddbf",
   "metadata": {},
   "outputs": [
    {
     "data": {
      "text/html": [
       "<style>#sk-container-id-1 {color: black;}#sk-container-id-1 pre{padding: 0;}#sk-container-id-1 div.sk-toggleable {background-color: white;}#sk-container-id-1 label.sk-toggleable__label {cursor: pointer;display: block;width: 100%;margin-bottom: 0;padding: 0.3em;box-sizing: border-box;text-align: center;}#sk-container-id-1 label.sk-toggleable__label-arrow:before {content: \"▸\";float: left;margin-right: 0.25em;color: #696969;}#sk-container-id-1 label.sk-toggleable__label-arrow:hover:before {color: black;}#sk-container-id-1 div.sk-estimator:hover label.sk-toggleable__label-arrow:before {color: black;}#sk-container-id-1 div.sk-toggleable__content {max-height: 0;max-width: 0;overflow: hidden;text-align: left;background-color: #f0f8ff;}#sk-container-id-1 div.sk-toggleable__content pre {margin: 0.2em;color: black;border-radius: 0.25em;background-color: #f0f8ff;}#sk-container-id-1 input.sk-toggleable__control:checked~div.sk-toggleable__content {max-height: 200px;max-width: 100%;overflow: auto;}#sk-container-id-1 input.sk-toggleable__control:checked~label.sk-toggleable__label-arrow:before {content: \"▾\";}#sk-container-id-1 div.sk-estimator input.sk-toggleable__control:checked~label.sk-toggleable__label {background-color: #d4ebff;}#sk-container-id-1 div.sk-label input.sk-toggleable__control:checked~label.sk-toggleable__label {background-color: #d4ebff;}#sk-container-id-1 input.sk-hidden--visually {border: 0;clip: rect(1px 1px 1px 1px);clip: rect(1px, 1px, 1px, 1px);height: 1px;margin: -1px;overflow: hidden;padding: 0;position: absolute;width: 1px;}#sk-container-id-1 div.sk-estimator {font-family: monospace;background-color: #f0f8ff;border: 1px dotted black;border-radius: 0.25em;box-sizing: border-box;margin-bottom: 0.5em;}#sk-container-id-1 div.sk-estimator:hover {background-color: #d4ebff;}#sk-container-id-1 div.sk-parallel-item::after {content: \"\";width: 100%;border-bottom: 1px solid gray;flex-grow: 1;}#sk-container-id-1 div.sk-label:hover label.sk-toggleable__label {background-color: #d4ebff;}#sk-container-id-1 div.sk-serial::before {content: \"\";position: absolute;border-left: 1px solid gray;box-sizing: border-box;top: 0;bottom: 0;left: 50%;z-index: 0;}#sk-container-id-1 div.sk-serial {display: flex;flex-direction: column;align-items: center;background-color: white;padding-right: 0.2em;padding-left: 0.2em;position: relative;}#sk-container-id-1 div.sk-item {position: relative;z-index: 1;}#sk-container-id-1 div.sk-parallel {display: flex;align-items: stretch;justify-content: center;background-color: white;position: relative;}#sk-container-id-1 div.sk-item::before, #sk-container-id-1 div.sk-parallel-item::before {content: \"\";position: absolute;border-left: 1px solid gray;box-sizing: border-box;top: 0;bottom: 0;left: 50%;z-index: -1;}#sk-container-id-1 div.sk-parallel-item {display: flex;flex-direction: column;z-index: 1;position: relative;background-color: white;}#sk-container-id-1 div.sk-parallel-item:first-child::after {align-self: flex-end;width: 50%;}#sk-container-id-1 div.sk-parallel-item:last-child::after {align-self: flex-start;width: 50%;}#sk-container-id-1 div.sk-parallel-item:only-child::after {width: 0;}#sk-container-id-1 div.sk-dashed-wrapped {border: 1px dashed gray;margin: 0 0.4em 0.5em 0.4em;box-sizing: border-box;padding-bottom: 0.4em;background-color: white;}#sk-container-id-1 div.sk-label label {font-family: monospace;font-weight: bold;display: inline-block;line-height: 1.2em;}#sk-container-id-1 div.sk-label-container {text-align: center;}#sk-container-id-1 div.sk-container {/* jupyter's `normalize.less` sets `[hidden] { display: none; }` but bootstrap.min.css set `[hidden] { display: none !important; }` so we also need the `!important` here to be able to override the default hidden behavior on the sphinx rendered scikit-learn.org. See: https://github.com/scikit-learn/scikit-learn/issues/21755 */display: inline-block !important;position: relative;}#sk-container-id-1 div.sk-text-repr-fallback {display: none;}</style><div id=\"sk-container-id-1\" class=\"sk-top-container\"><div class=\"sk-text-repr-fallback\"><pre>Pipeline(steps=[(&#x27;clf&#x27;,\n",
       "                 XGBClassifier(base_score=None, booster=None, callbacks=None,\n",
       "                               colsample_bylevel=None, colsample_bynode=None,\n",
       "                               colsample_bytree=None, device=None,\n",
       "                               early_stopping_rounds=None,\n",
       "                               enable_categorical=False, eval_metric=None,\n",
       "                               feature_types=None, gamma=None, grow_policy=None,\n",
       "                               importance_type=None,\n",
       "                               interaction_constraints=None, learning_rate=None,\n",
       "                               max_bin=None, max_cat_threshold=None,\n",
       "                               max_cat_to_onehot=None, max_delta_step=None,\n",
       "                               max_depth=None, max_leaves=None,\n",
       "                               min_child_weight=None, missing=nan,\n",
       "                               monotone_constraints=None, multi_strategy=None,\n",
       "                               n_estimators=None, n_jobs=None,\n",
       "                               num_parallel_tree=None, random_state=20, ...))])</pre><b>In a Jupyter environment, please rerun this cell to show the HTML representation or trust the notebook. <br />On GitHub, the HTML representation is unable to render, please try loading this page with nbviewer.org.</b></div><div class=\"sk-container\" hidden><div class=\"sk-item sk-dashed-wrapped\"><div class=\"sk-label-container\"><div class=\"sk-label sk-toggleable\"><input class=\"sk-toggleable__control sk-hidden--visually\" id=\"sk-estimator-id-1\" type=\"checkbox\" ><label for=\"sk-estimator-id-1\" class=\"sk-toggleable__label sk-toggleable__label-arrow\">Pipeline</label><div class=\"sk-toggleable__content\"><pre>Pipeline(steps=[(&#x27;clf&#x27;,\n",
       "                 XGBClassifier(base_score=None, booster=None, callbacks=None,\n",
       "                               colsample_bylevel=None, colsample_bynode=None,\n",
       "                               colsample_bytree=None, device=None,\n",
       "                               early_stopping_rounds=None,\n",
       "                               enable_categorical=False, eval_metric=None,\n",
       "                               feature_types=None, gamma=None, grow_policy=None,\n",
       "                               importance_type=None,\n",
       "                               interaction_constraints=None, learning_rate=None,\n",
       "                               max_bin=None, max_cat_threshold=None,\n",
       "                               max_cat_to_onehot=None, max_delta_step=None,\n",
       "                               max_depth=None, max_leaves=None,\n",
       "                               min_child_weight=None, missing=nan,\n",
       "                               monotone_constraints=None, multi_strategy=None,\n",
       "                               n_estimators=None, n_jobs=None,\n",
       "                               num_parallel_tree=None, random_state=20, ...))])</pre></div></div></div><div class=\"sk-serial\"><div class=\"sk-item\"><div class=\"sk-estimator sk-toggleable\"><input class=\"sk-toggleable__control sk-hidden--visually\" id=\"sk-estimator-id-2\" type=\"checkbox\" ><label for=\"sk-estimator-id-2\" class=\"sk-toggleable__label sk-toggleable__label-arrow\">XGBClassifier</label><div class=\"sk-toggleable__content\"><pre>XGBClassifier(base_score=None, booster=None, callbacks=None,\n",
       "              colsample_bylevel=None, colsample_bynode=None,\n",
       "              colsample_bytree=None, device=None, early_stopping_rounds=None,\n",
       "              enable_categorical=False, eval_metric=None, feature_types=None,\n",
       "              gamma=None, grow_policy=None, importance_type=None,\n",
       "              interaction_constraints=None, learning_rate=None, max_bin=None,\n",
       "              max_cat_threshold=None, max_cat_to_onehot=None,\n",
       "              max_delta_step=None, max_depth=None, max_leaves=None,\n",
       "              min_child_weight=None, missing=nan, monotone_constraints=None,\n",
       "              multi_strategy=None, n_estimators=None, n_jobs=None,\n",
       "              num_parallel_tree=None, random_state=20, ...)</pre></div></div></div></div></div></div></div>"
      ],
      "text/plain": [
       "Pipeline(steps=[('clf',\n",
       "                 XGBClassifier(base_score=None, booster=None, callbacks=None,\n",
       "                               colsample_bylevel=None, colsample_bynode=None,\n",
       "                               colsample_bytree=None, device=None,\n",
       "                               early_stopping_rounds=None,\n",
       "                               enable_categorical=False, eval_metric=None,\n",
       "                               feature_types=None, gamma=None, grow_policy=None,\n",
       "                               importance_type=None,\n",
       "                               interaction_constraints=None, learning_rate=None,\n",
       "                               max_bin=None, max_cat_threshold=None,\n",
       "                               max_cat_to_onehot=None, max_delta_step=None,\n",
       "                               max_depth=None, max_leaves=None,\n",
       "                               min_child_weight=None, missing=nan,\n",
       "                               monotone_constraints=None, multi_strategy=None,\n",
       "                               n_estimators=None, n_jobs=None,\n",
       "                               num_parallel_tree=None, random_state=20, ...))])"
      ]
     },
     "execution_count": 6,
     "metadata": {},
     "output_type": "execute_result"
    }
   ],
   "source": [
    "estimators = [('clf', XGBClassifier(random_state=20))]\n",
    "pipe=Pipeline(steps=estimators)\n",
    "pipe"
   ]
  },
  {
   "cell_type": "code",
   "execution_count": 7,
   "id": "8144d41c",
   "metadata": {},
   "outputs": [],
   "source": [
    "search_space = {\n",
    "    'clf__max_depth': Integer(2,10),\n",
    "    'clf__learning_rate': Real(0.005, 1.0, prior='log-uniform'), \n",
    "    'clf__subsample': Real(0.5, 1.0),\n",
    "    'clf__colsample_bytree': Real(0.5, 1.0),\n",
    "    'clf__colsample_bylevel': Real(0.5, 1.0),\n",
    "    'clf__colsample_bynode' : Real(0.5, 1.0),\n",
    "    'clf__reg_alpha': Real(0.0, 10.0),\n",
    "    'clf__reg_lambda': Real(0.0, 10.0),\n",
    "    'clf__gamma': Real(0.0, 10.0)\n",
    "}\n",
    "\n",
    "#BayesSearchCV used to find the best model\n",
    "opt = BayesSearchCV(pipe, search_space, cv=5, n_iter=20, scoring='f1',random_state=30)\n",
    "#'clf__learning_rate' impacts the \"fit\"\n",
    "#n_iter -> iteration with differing search_space WRT differing ranges defined "
   ]
  },
  {
   "cell_type": "markdown",
   "id": "11de4dfa",
   "metadata": {},
   "source": [
    "'f1' seems to be the most suitable to \"score\" the model as the intention is to find the best model, whereafter, the model will be fitted against other test datasets which were prepared."
   ]
  },
  {
   "cell_type": "code",
   "execution_count": 8,
   "id": "b3f8f8f2",
   "metadata": {
    "scrolled": true
   },
   "outputs": [
    {
     "data": {
      "text/html": [
       "<style>#sk-container-id-2 {color: black;}#sk-container-id-2 pre{padding: 0;}#sk-container-id-2 div.sk-toggleable {background-color: white;}#sk-container-id-2 label.sk-toggleable__label {cursor: pointer;display: block;width: 100%;margin-bottom: 0;padding: 0.3em;box-sizing: border-box;text-align: center;}#sk-container-id-2 label.sk-toggleable__label-arrow:before {content: \"▸\";float: left;margin-right: 0.25em;color: #696969;}#sk-container-id-2 label.sk-toggleable__label-arrow:hover:before {color: black;}#sk-container-id-2 div.sk-estimator:hover label.sk-toggleable__label-arrow:before {color: black;}#sk-container-id-2 div.sk-toggleable__content {max-height: 0;max-width: 0;overflow: hidden;text-align: left;background-color: #f0f8ff;}#sk-container-id-2 div.sk-toggleable__content pre {margin: 0.2em;color: black;border-radius: 0.25em;background-color: #f0f8ff;}#sk-container-id-2 input.sk-toggleable__control:checked~div.sk-toggleable__content {max-height: 200px;max-width: 100%;overflow: auto;}#sk-container-id-2 input.sk-toggleable__control:checked~label.sk-toggleable__label-arrow:before {content: \"▾\";}#sk-container-id-2 div.sk-estimator input.sk-toggleable__control:checked~label.sk-toggleable__label {background-color: #d4ebff;}#sk-container-id-2 div.sk-label input.sk-toggleable__control:checked~label.sk-toggleable__label {background-color: #d4ebff;}#sk-container-id-2 input.sk-hidden--visually {border: 0;clip: rect(1px 1px 1px 1px);clip: rect(1px, 1px, 1px, 1px);height: 1px;margin: -1px;overflow: hidden;padding: 0;position: absolute;width: 1px;}#sk-container-id-2 div.sk-estimator {font-family: monospace;background-color: #f0f8ff;border: 1px dotted black;border-radius: 0.25em;box-sizing: border-box;margin-bottom: 0.5em;}#sk-container-id-2 div.sk-estimator:hover {background-color: #d4ebff;}#sk-container-id-2 div.sk-parallel-item::after {content: \"\";width: 100%;border-bottom: 1px solid gray;flex-grow: 1;}#sk-container-id-2 div.sk-label:hover label.sk-toggleable__label {background-color: #d4ebff;}#sk-container-id-2 div.sk-serial::before {content: \"\";position: absolute;border-left: 1px solid gray;box-sizing: border-box;top: 0;bottom: 0;left: 50%;z-index: 0;}#sk-container-id-2 div.sk-serial {display: flex;flex-direction: column;align-items: center;background-color: white;padding-right: 0.2em;padding-left: 0.2em;position: relative;}#sk-container-id-2 div.sk-item {position: relative;z-index: 1;}#sk-container-id-2 div.sk-parallel {display: flex;align-items: stretch;justify-content: center;background-color: white;position: relative;}#sk-container-id-2 div.sk-item::before, #sk-container-id-2 div.sk-parallel-item::before {content: \"\";position: absolute;border-left: 1px solid gray;box-sizing: border-box;top: 0;bottom: 0;left: 50%;z-index: -1;}#sk-container-id-2 div.sk-parallel-item {display: flex;flex-direction: column;z-index: 1;position: relative;background-color: white;}#sk-container-id-2 div.sk-parallel-item:first-child::after {align-self: flex-end;width: 50%;}#sk-container-id-2 div.sk-parallel-item:last-child::after {align-self: flex-start;width: 50%;}#sk-container-id-2 div.sk-parallel-item:only-child::after {width: 0;}#sk-container-id-2 div.sk-dashed-wrapped {border: 1px dashed gray;margin: 0 0.4em 0.5em 0.4em;box-sizing: border-box;padding-bottom: 0.4em;background-color: white;}#sk-container-id-2 div.sk-label label {font-family: monospace;font-weight: bold;display: inline-block;line-height: 1.2em;}#sk-container-id-2 div.sk-label-container {text-align: center;}#sk-container-id-2 div.sk-container {/* jupyter's `normalize.less` sets `[hidden] { display: none; }` but bootstrap.min.css set `[hidden] { display: none !important; }` so we also need the `!important` here to be able to override the default hidden behavior on the sphinx rendered scikit-learn.org. See: https://github.com/scikit-learn/scikit-learn/issues/21755 */display: inline-block !important;position: relative;}#sk-container-id-2 div.sk-text-repr-fallback {display: none;}</style><div id=\"sk-container-id-2\" class=\"sk-top-container\"><div class=\"sk-text-repr-fallback\"><pre>BayesSearchCV(cv=5,\n",
       "              estimator=Pipeline(steps=[(&#x27;clf&#x27;,\n",
       "                                         XGBClassifier(base_score=None,\n",
       "                                                       booster=None,\n",
       "                                                       callbacks=None,\n",
       "                                                       colsample_bylevel=None,\n",
       "                                                       colsample_bynode=None,\n",
       "                                                       colsample_bytree=None,\n",
       "                                                       device=None,\n",
       "                                                       early_stopping_rounds=None,\n",
       "                                                       enable_categorical=False,\n",
       "                                                       eval_metric=None,\n",
       "                                                       feature_types=None,\n",
       "                                                       gamma=None,\n",
       "                                                       grow_policy=None,\n",
       "                                                       importance_type=None,\n",
       "                                                       interaction_constraints=...\n",
       "                             &#x27;clf__learning_rate&#x27;: Real(low=0.005, high=1.0, prior=&#x27;log-uniform&#x27;, transform=&#x27;normalize&#x27;),\n",
       "                             &#x27;clf__max_depth&#x27;: Integer(low=2, high=10, prior=&#x27;uniform&#x27;, transform=&#x27;normalize&#x27;),\n",
       "                             &#x27;clf__reg_alpha&#x27;: Real(low=0.0, high=10.0, prior=&#x27;uniform&#x27;, transform=&#x27;normalize&#x27;),\n",
       "                             &#x27;clf__reg_lambda&#x27;: Real(low=0.0, high=10.0, prior=&#x27;uniform&#x27;, transform=&#x27;normalize&#x27;),\n",
       "                             &#x27;clf__subsample&#x27;: Real(low=0.5, high=1.0, prior=&#x27;uniform&#x27;, transform=&#x27;normalize&#x27;)})</pre><b>In a Jupyter environment, please rerun this cell to show the HTML representation or trust the notebook. <br />On GitHub, the HTML representation is unable to render, please try loading this page with nbviewer.org.</b></div><div class=\"sk-container\" hidden><div class=\"sk-item sk-dashed-wrapped\"><div class=\"sk-label-container\"><div class=\"sk-label sk-toggleable\"><input class=\"sk-toggleable__control sk-hidden--visually\" id=\"sk-estimator-id-3\" type=\"checkbox\" ><label for=\"sk-estimator-id-3\" class=\"sk-toggleable__label sk-toggleable__label-arrow\">BayesSearchCV</label><div class=\"sk-toggleable__content\"><pre>BayesSearchCV(cv=5,\n",
       "              estimator=Pipeline(steps=[(&#x27;clf&#x27;,\n",
       "                                         XGBClassifier(base_score=None,\n",
       "                                                       booster=None,\n",
       "                                                       callbacks=None,\n",
       "                                                       colsample_bylevel=None,\n",
       "                                                       colsample_bynode=None,\n",
       "                                                       colsample_bytree=None,\n",
       "                                                       device=None,\n",
       "                                                       early_stopping_rounds=None,\n",
       "                                                       enable_categorical=False,\n",
       "                                                       eval_metric=None,\n",
       "                                                       feature_types=None,\n",
       "                                                       gamma=None,\n",
       "                                                       grow_policy=None,\n",
       "                                                       importance_type=None,\n",
       "                                                       interaction_constraints=...\n",
       "                             &#x27;clf__learning_rate&#x27;: Real(low=0.005, high=1.0, prior=&#x27;log-uniform&#x27;, transform=&#x27;normalize&#x27;),\n",
       "                             &#x27;clf__max_depth&#x27;: Integer(low=2, high=10, prior=&#x27;uniform&#x27;, transform=&#x27;normalize&#x27;),\n",
       "                             &#x27;clf__reg_alpha&#x27;: Real(low=0.0, high=10.0, prior=&#x27;uniform&#x27;, transform=&#x27;normalize&#x27;),\n",
       "                             &#x27;clf__reg_lambda&#x27;: Real(low=0.0, high=10.0, prior=&#x27;uniform&#x27;, transform=&#x27;normalize&#x27;),\n",
       "                             &#x27;clf__subsample&#x27;: Real(low=0.5, high=1.0, prior=&#x27;uniform&#x27;, transform=&#x27;normalize&#x27;)})</pre></div></div></div><div class=\"sk-parallel\"><div class=\"sk-parallel-item\"><div class=\"sk-item\"><div class=\"sk-label-container\"><div class=\"sk-label sk-toggleable\"><input class=\"sk-toggleable__control sk-hidden--visually\" id=\"sk-estimator-id-4\" type=\"checkbox\" ><label for=\"sk-estimator-id-4\" class=\"sk-toggleable__label sk-toggleable__label-arrow\">estimator: Pipeline</label><div class=\"sk-toggleable__content\"><pre>Pipeline(steps=[(&#x27;clf&#x27;,\n",
       "                 XGBClassifier(base_score=None, booster=None, callbacks=None,\n",
       "                               colsample_bylevel=None, colsample_bynode=None,\n",
       "                               colsample_bytree=None, device=None,\n",
       "                               early_stopping_rounds=None,\n",
       "                               enable_categorical=False, eval_metric=None,\n",
       "                               feature_types=None, gamma=None, grow_policy=None,\n",
       "                               importance_type=None,\n",
       "                               interaction_constraints=None, learning_rate=None,\n",
       "                               max_bin=None, max_cat_threshold=None,\n",
       "                               max_cat_to_onehot=None, max_delta_step=None,\n",
       "                               max_depth=None, max_leaves=None,\n",
       "                               min_child_weight=None, missing=nan,\n",
       "                               monotone_constraints=None, multi_strategy=None,\n",
       "                               n_estimators=None, n_jobs=None,\n",
       "                               num_parallel_tree=None, random_state=20, ...))])</pre></div></div></div><div class=\"sk-serial\"><div class=\"sk-item\"><div class=\"sk-serial\"><div class=\"sk-item\"><div class=\"sk-estimator sk-toggleable\"><input class=\"sk-toggleable__control sk-hidden--visually\" id=\"sk-estimator-id-5\" type=\"checkbox\" ><label for=\"sk-estimator-id-5\" class=\"sk-toggleable__label sk-toggleable__label-arrow\">XGBClassifier</label><div class=\"sk-toggleable__content\"><pre>XGBClassifier(base_score=None, booster=None, callbacks=None,\n",
       "              colsample_bylevel=None, colsample_bynode=None,\n",
       "              colsample_bytree=None, device=None, early_stopping_rounds=None,\n",
       "              enable_categorical=False, eval_metric=None, feature_types=None,\n",
       "              gamma=None, grow_policy=None, importance_type=None,\n",
       "              interaction_constraints=None, learning_rate=None, max_bin=None,\n",
       "              max_cat_threshold=None, max_cat_to_onehot=None,\n",
       "              max_delta_step=None, max_depth=None, max_leaves=None,\n",
       "              min_child_weight=None, missing=nan, monotone_constraints=None,\n",
       "              multi_strategy=None, n_estimators=None, n_jobs=None,\n",
       "              num_parallel_tree=None, random_state=20, ...)</pre></div></div></div></div></div></div></div></div></div></div></div></div>"
      ],
      "text/plain": [
       "BayesSearchCV(cv=5,\n",
       "              estimator=Pipeline(steps=[('clf',\n",
       "                                         XGBClassifier(base_score=None,\n",
       "                                                       booster=None,\n",
       "                                                       callbacks=None,\n",
       "                                                       colsample_bylevel=None,\n",
       "                                                       colsample_bynode=None,\n",
       "                                                       colsample_bytree=None,\n",
       "                                                       device=None,\n",
       "                                                       early_stopping_rounds=None,\n",
       "                                                       enable_categorical=False,\n",
       "                                                       eval_metric=None,\n",
       "                                                       feature_types=None,\n",
       "                                                       gamma=None,\n",
       "                                                       grow_policy=None,\n",
       "                                                       importance_type=None,\n",
       "                                                       interaction_constraints=...\n",
       "                             'clf__learning_rate': Real(low=0.005, high=1.0, prior='log-uniform', transform='normalize'),\n",
       "                             'clf__max_depth': Integer(low=2, high=10, prior='uniform', transform='normalize'),\n",
       "                             'clf__reg_alpha': Real(low=0.0, high=10.0, prior='uniform', transform='normalize'),\n",
       "                             'clf__reg_lambda': Real(low=0.0, high=10.0, prior='uniform', transform='normalize'),\n",
       "                             'clf__subsample': Real(low=0.5, high=1.0, prior='uniform', transform='normalize')})"
      ]
     },
     "execution_count": 8,
     "metadata": {},
     "output_type": "execute_result"
    }
   ],
   "source": [
    "opt.fit(base_train,succ_train)"
   ]
  },
  {
   "cell_type": "code",
   "execution_count": 9,
   "id": "194bedd9",
   "metadata": {},
   "outputs": [
    {
     "name": "stdout",
     "output_type": "stream",
     "text": [
      "f1 score of trained set    :  0.789846291807741\n",
      "f1 score of test set       :  0.7813953488372094\n"
     ]
    }
   ],
   "source": [
    "print(\"f1 score of trained set    : \",opt.best_score_)\n",
    "print(\"f1 score of test set       : \",opt.score(base_test,succ_test))"
   ]
  },
  {
   "cell_type": "code",
   "execution_count": 10,
   "id": "d4150635",
   "metadata": {},
   "outputs": [],
   "source": [
    "testDF=pd.read_csv(\"testDataOne.csv\")\n",
    "testLeft=testDF.drop(columns=['Success','release_date','revenue'])\n",
    "testLeft=testLeft.rename(columns={'budget':'budget',\"vote_average\":'score',\"vote_count\":'votes','year':'year'})\n",
    "testLeft=testLeft[['year', 'score', 'votes', 'budget']]\n",
    "testLeft[\"votes\"]=testLeft[\"votes\"]*100 #the data retrieved scaled down the votes\n",
    "\n",
    "testRight=testDF[\"Success\"]"
   ]
  },
  {
   "cell_type": "code",
   "execution_count": 11,
   "id": "031efd41",
   "metadata": {},
   "outputs": [
    {
     "name": "stdout",
     "output_type": "stream",
     "text": [
      "f1 score of prepared set 1 :  0.7861089187056037\n"
     ]
    }
   ],
   "source": [
    "print(\"f1 score of prepared set 1 : \", opt.score(testLeft,testRight))"
   ]
  },
  {
   "cell_type": "code",
   "execution_count": 12,
   "id": "7fb29937",
   "metadata": {},
   "outputs": [],
   "source": [
    "testDF=pd.read_csv(\"testDataTwo.csv\")\n",
    "testLeft=testDF.drop(columns=['Success','release_date','revenue'])\n",
    "testLeft=testLeft.rename(columns={'budget':'budget',\"vote_average\":'score',\"vote_count\":'votes','year':'year'})\n",
    "testLeft=testLeft[['year', 'score', 'votes', 'budget']]\n",
    "testLeft[\"votes\"]=testLeft[\"votes\"]*100\n",
    "\n",
    "testRight=testDF[\"Success\"]"
   ]
  },
  {
   "cell_type": "code",
   "execution_count": 13,
   "id": "f03ea7ec",
   "metadata": {},
   "outputs": [
    {
     "name": "stdout",
     "output_type": "stream",
     "text": [
      "f1 score of prepared set 2 :  0.7608874281018898\n"
     ]
    }
   ],
   "source": [
    "print(\"f1 score of prepared set 2 : \", opt.score(testLeft,testRight))"
   ]
  },
  {
   "cell_type": "code",
   "execution_count": 14,
   "id": "74daf4ba",
   "metadata": {},
   "outputs": [],
   "source": [
    "testDF=pd.read_csv(\"testDataThree.csv\")\n",
    "testLeft=testDF.drop(columns=['Success','release_date','revenue'])\n",
    "testLeft=testLeft.rename(columns={'budget':'budget',\"vote_average\":'score',\"vote_count\":'votes','year':'year'})\n",
    "testLeft=testLeft[['year', 'score', 'votes', 'budget']]\n",
    "testLeft[\"votes\"]=testLeft[\"votes\"]*100\n",
    "\n",
    "testRight=testDF[\"Success\"]"
   ]
  },
  {
   "cell_type": "code",
   "execution_count": 15,
   "id": "3d5bc661",
   "metadata": {},
   "outputs": [
    {
     "name": "stdout",
     "output_type": "stream",
     "text": [
      "f1 score of prepared set 3 :  0.8117359413202934\n"
     ]
    }
   ],
   "source": [
    "print(\"f1 score of prepared set 3 : \", opt.score(testLeft,testRight))"
   ]
  },
  {
   "cell_type": "markdown",
   "id": "97730c2a",
   "metadata": {},
   "source": [
    "Accuracy (for additional reference)"
   ]
  },
  {
   "cell_type": "code",
   "execution_count": 16,
   "id": "2a1fa81c",
   "metadata": {},
   "outputs": [
    {
     "data": {
      "text/html": [
       "<style>#sk-container-id-3 {color: black;}#sk-container-id-3 pre{padding: 0;}#sk-container-id-3 div.sk-toggleable {background-color: white;}#sk-container-id-3 label.sk-toggleable__label {cursor: pointer;display: block;width: 100%;margin-bottom: 0;padding: 0.3em;box-sizing: border-box;text-align: center;}#sk-container-id-3 label.sk-toggleable__label-arrow:before {content: \"▸\";float: left;margin-right: 0.25em;color: #696969;}#sk-container-id-3 label.sk-toggleable__label-arrow:hover:before {color: black;}#sk-container-id-3 div.sk-estimator:hover label.sk-toggleable__label-arrow:before {color: black;}#sk-container-id-3 div.sk-toggleable__content {max-height: 0;max-width: 0;overflow: hidden;text-align: left;background-color: #f0f8ff;}#sk-container-id-3 div.sk-toggleable__content pre {margin: 0.2em;color: black;border-radius: 0.25em;background-color: #f0f8ff;}#sk-container-id-3 input.sk-toggleable__control:checked~div.sk-toggleable__content {max-height: 200px;max-width: 100%;overflow: auto;}#sk-container-id-3 input.sk-toggleable__control:checked~label.sk-toggleable__label-arrow:before {content: \"▾\";}#sk-container-id-3 div.sk-estimator input.sk-toggleable__control:checked~label.sk-toggleable__label {background-color: #d4ebff;}#sk-container-id-3 div.sk-label input.sk-toggleable__control:checked~label.sk-toggleable__label {background-color: #d4ebff;}#sk-container-id-3 input.sk-hidden--visually {border: 0;clip: rect(1px 1px 1px 1px);clip: rect(1px, 1px, 1px, 1px);height: 1px;margin: -1px;overflow: hidden;padding: 0;position: absolute;width: 1px;}#sk-container-id-3 div.sk-estimator {font-family: monospace;background-color: #f0f8ff;border: 1px dotted black;border-radius: 0.25em;box-sizing: border-box;margin-bottom: 0.5em;}#sk-container-id-3 div.sk-estimator:hover {background-color: #d4ebff;}#sk-container-id-3 div.sk-parallel-item::after {content: \"\";width: 100%;border-bottom: 1px solid gray;flex-grow: 1;}#sk-container-id-3 div.sk-label:hover label.sk-toggleable__label {background-color: #d4ebff;}#sk-container-id-3 div.sk-serial::before {content: \"\";position: absolute;border-left: 1px solid gray;box-sizing: border-box;top: 0;bottom: 0;left: 50%;z-index: 0;}#sk-container-id-3 div.sk-serial {display: flex;flex-direction: column;align-items: center;background-color: white;padding-right: 0.2em;padding-left: 0.2em;position: relative;}#sk-container-id-3 div.sk-item {position: relative;z-index: 1;}#sk-container-id-3 div.sk-parallel {display: flex;align-items: stretch;justify-content: center;background-color: white;position: relative;}#sk-container-id-3 div.sk-item::before, #sk-container-id-3 div.sk-parallel-item::before {content: \"\";position: absolute;border-left: 1px solid gray;box-sizing: border-box;top: 0;bottom: 0;left: 50%;z-index: -1;}#sk-container-id-3 div.sk-parallel-item {display: flex;flex-direction: column;z-index: 1;position: relative;background-color: white;}#sk-container-id-3 div.sk-parallel-item:first-child::after {align-self: flex-end;width: 50%;}#sk-container-id-3 div.sk-parallel-item:last-child::after {align-self: flex-start;width: 50%;}#sk-container-id-3 div.sk-parallel-item:only-child::after {width: 0;}#sk-container-id-3 div.sk-dashed-wrapped {border: 1px dashed gray;margin: 0 0.4em 0.5em 0.4em;box-sizing: border-box;padding-bottom: 0.4em;background-color: white;}#sk-container-id-3 div.sk-label label {font-family: monospace;font-weight: bold;display: inline-block;line-height: 1.2em;}#sk-container-id-3 div.sk-label-container {text-align: center;}#sk-container-id-3 div.sk-container {/* jupyter's `normalize.less` sets `[hidden] { display: none; }` but bootstrap.min.css set `[hidden] { display: none !important; }` so we also need the `!important` here to be able to override the default hidden behavior on the sphinx rendered scikit-learn.org. See: https://github.com/scikit-learn/scikit-learn/issues/21755 */display: inline-block !important;position: relative;}#sk-container-id-3 div.sk-text-repr-fallback {display: none;}</style><div id=\"sk-container-id-3\" class=\"sk-top-container\"><div class=\"sk-text-repr-fallback\"><pre>BayesSearchCV(cv=5,\n",
       "              estimator=Pipeline(steps=[(&#x27;clf&#x27;,\n",
       "                                         XGBClassifier(base_score=None,\n",
       "                                                       booster=None,\n",
       "                                                       callbacks=None,\n",
       "                                                       colsample_bylevel=None,\n",
       "                                                       colsample_bynode=None,\n",
       "                                                       colsample_bytree=None,\n",
       "                                                       device=None,\n",
       "                                                       early_stopping_rounds=None,\n",
       "                                                       enable_categorical=False,\n",
       "                                                       eval_metric=None,\n",
       "                                                       feature_types=None,\n",
       "                                                       gamma=None,\n",
       "                                                       grow_policy=None,\n",
       "                                                       importance_type=None,\n",
       "                                                       interaction_constraints=...\n",
       "                             &#x27;clf__learning_rate&#x27;: Real(low=0.005, high=1.0, prior=&#x27;log-uniform&#x27;, transform=&#x27;normalize&#x27;),\n",
       "                             &#x27;clf__max_depth&#x27;: Integer(low=2, high=10, prior=&#x27;uniform&#x27;, transform=&#x27;normalize&#x27;),\n",
       "                             &#x27;clf__reg_alpha&#x27;: Real(low=0.0, high=10.0, prior=&#x27;uniform&#x27;, transform=&#x27;normalize&#x27;),\n",
       "                             &#x27;clf__reg_lambda&#x27;: Real(low=0.0, high=10.0, prior=&#x27;uniform&#x27;, transform=&#x27;normalize&#x27;),\n",
       "                             &#x27;clf__subsample&#x27;: Real(low=0.5, high=1.0, prior=&#x27;uniform&#x27;, transform=&#x27;normalize&#x27;)})</pre><b>In a Jupyter environment, please rerun this cell to show the HTML representation or trust the notebook. <br />On GitHub, the HTML representation is unable to render, please try loading this page with nbviewer.org.</b></div><div class=\"sk-container\" hidden><div class=\"sk-item sk-dashed-wrapped\"><div class=\"sk-label-container\"><div class=\"sk-label sk-toggleable\"><input class=\"sk-toggleable__control sk-hidden--visually\" id=\"sk-estimator-id-6\" type=\"checkbox\" ><label for=\"sk-estimator-id-6\" class=\"sk-toggleable__label sk-toggleable__label-arrow\">BayesSearchCV</label><div class=\"sk-toggleable__content\"><pre>BayesSearchCV(cv=5,\n",
       "              estimator=Pipeline(steps=[(&#x27;clf&#x27;,\n",
       "                                         XGBClassifier(base_score=None,\n",
       "                                                       booster=None,\n",
       "                                                       callbacks=None,\n",
       "                                                       colsample_bylevel=None,\n",
       "                                                       colsample_bynode=None,\n",
       "                                                       colsample_bytree=None,\n",
       "                                                       device=None,\n",
       "                                                       early_stopping_rounds=None,\n",
       "                                                       enable_categorical=False,\n",
       "                                                       eval_metric=None,\n",
       "                                                       feature_types=None,\n",
       "                                                       gamma=None,\n",
       "                                                       grow_policy=None,\n",
       "                                                       importance_type=None,\n",
       "                                                       interaction_constraints=...\n",
       "                             &#x27;clf__learning_rate&#x27;: Real(low=0.005, high=1.0, prior=&#x27;log-uniform&#x27;, transform=&#x27;normalize&#x27;),\n",
       "                             &#x27;clf__max_depth&#x27;: Integer(low=2, high=10, prior=&#x27;uniform&#x27;, transform=&#x27;normalize&#x27;),\n",
       "                             &#x27;clf__reg_alpha&#x27;: Real(low=0.0, high=10.0, prior=&#x27;uniform&#x27;, transform=&#x27;normalize&#x27;),\n",
       "                             &#x27;clf__reg_lambda&#x27;: Real(low=0.0, high=10.0, prior=&#x27;uniform&#x27;, transform=&#x27;normalize&#x27;),\n",
       "                             &#x27;clf__subsample&#x27;: Real(low=0.5, high=1.0, prior=&#x27;uniform&#x27;, transform=&#x27;normalize&#x27;)})</pre></div></div></div><div class=\"sk-parallel\"><div class=\"sk-parallel-item\"><div class=\"sk-item\"><div class=\"sk-label-container\"><div class=\"sk-label sk-toggleable\"><input class=\"sk-toggleable__control sk-hidden--visually\" id=\"sk-estimator-id-7\" type=\"checkbox\" ><label for=\"sk-estimator-id-7\" class=\"sk-toggleable__label sk-toggleable__label-arrow\">estimator: Pipeline</label><div class=\"sk-toggleable__content\"><pre>Pipeline(steps=[(&#x27;clf&#x27;,\n",
       "                 XGBClassifier(base_score=None, booster=None, callbacks=None,\n",
       "                               colsample_bylevel=None, colsample_bynode=None,\n",
       "                               colsample_bytree=None, device=None,\n",
       "                               early_stopping_rounds=None,\n",
       "                               enable_categorical=False, eval_metric=None,\n",
       "                               feature_types=None, gamma=None, grow_policy=None,\n",
       "                               importance_type=None,\n",
       "                               interaction_constraints=None, learning_rate=None,\n",
       "                               max_bin=None, max_cat_threshold=None,\n",
       "                               max_cat_to_onehot=None, max_delta_step=None,\n",
       "                               max_depth=None, max_leaves=None,\n",
       "                               min_child_weight=None, missing=nan,\n",
       "                               monotone_constraints=None, multi_strategy=None,\n",
       "                               n_estimators=None, n_jobs=None,\n",
       "                               num_parallel_tree=None, random_state=20, ...))])</pre></div></div></div><div class=\"sk-serial\"><div class=\"sk-item\"><div class=\"sk-serial\"><div class=\"sk-item\"><div class=\"sk-estimator sk-toggleable\"><input class=\"sk-toggleable__control sk-hidden--visually\" id=\"sk-estimator-id-8\" type=\"checkbox\" ><label for=\"sk-estimator-id-8\" class=\"sk-toggleable__label sk-toggleable__label-arrow\">XGBClassifier</label><div class=\"sk-toggleable__content\"><pre>XGBClassifier(base_score=None, booster=None, callbacks=None,\n",
       "              colsample_bylevel=None, colsample_bynode=None,\n",
       "              colsample_bytree=None, device=None, early_stopping_rounds=None,\n",
       "              enable_categorical=False, eval_metric=None, feature_types=None,\n",
       "              gamma=None, grow_policy=None, importance_type=None,\n",
       "              interaction_constraints=None, learning_rate=None, max_bin=None,\n",
       "              max_cat_threshold=None, max_cat_to_onehot=None,\n",
       "              max_delta_step=None, max_depth=None, max_leaves=None,\n",
       "              min_child_weight=None, missing=nan, monotone_constraints=None,\n",
       "              multi_strategy=None, n_estimators=None, n_jobs=None,\n",
       "              num_parallel_tree=None, random_state=20, ...)</pre></div></div></div></div></div></div></div></div></div></div></div></div>"
      ],
      "text/plain": [
       "BayesSearchCV(cv=5,\n",
       "              estimator=Pipeline(steps=[('clf',\n",
       "                                         XGBClassifier(base_score=None,\n",
       "                                                       booster=None,\n",
       "                                                       callbacks=None,\n",
       "                                                       colsample_bylevel=None,\n",
       "                                                       colsample_bynode=None,\n",
       "                                                       colsample_bytree=None,\n",
       "                                                       device=None,\n",
       "                                                       early_stopping_rounds=None,\n",
       "                                                       enable_categorical=False,\n",
       "                                                       eval_metric=None,\n",
       "                                                       feature_types=None,\n",
       "                                                       gamma=None,\n",
       "                                                       grow_policy=None,\n",
       "                                                       importance_type=None,\n",
       "                                                       interaction_constraints=...\n",
       "                             'clf__learning_rate': Real(low=0.005, high=1.0, prior='log-uniform', transform='normalize'),\n",
       "                             'clf__max_depth': Integer(low=2, high=10, prior='uniform', transform='normalize'),\n",
       "                             'clf__reg_alpha': Real(low=0.0, high=10.0, prior='uniform', transform='normalize'),\n",
       "                             'clf__reg_lambda': Real(low=0.0, high=10.0, prior='uniform', transform='normalize'),\n",
       "                             'clf__subsample': Real(low=0.5, high=1.0, prior='uniform', transform='normalize')})"
      ]
     },
     "execution_count": 16,
     "metadata": {},
     "output_type": "execute_result"
    }
   ],
   "source": [
    "opt = BayesSearchCV(pipe, search_space, cv=5, n_iter=20, scoring='accuracy',random_state=30)\n",
    "opt.fit(base_train,succ_train)"
   ]
  },
  {
   "cell_type": "code",
   "execution_count": 17,
   "id": "9ab70f2e",
   "metadata": {},
   "outputs": [
    {
     "name": "stdout",
     "output_type": "stream",
     "text": [
      "Accuracy of trained set    :  0.7575900500550714\n",
      "Accuracy of test set       :  0.742296918767507\n"
     ]
    }
   ],
   "source": [
    "print(\"Accuracy of trained set    : \",opt.best_score_)\n",
    "print(\"Accuracy of test set       : \",opt.score(base_test,succ_test))"
   ]
  },
  {
   "cell_type": "code",
   "execution_count": 18,
   "id": "0f7e2294",
   "metadata": {},
   "outputs": [],
   "source": [
    "testDF=pd.read_csv(\"testDataOne.csv\")\n",
    "testLeft=testDF.drop(columns=['Success','release_date','revenue'])\n",
    "testLeft=testLeft.rename(columns={'budget':'budget',\"vote_average\":'score',\"vote_count\":'votes','year':'year'})\n",
    "testLeft=testLeft[['year', 'score', 'votes', 'budget']]\n",
    "testLeft[\"votes\"]=testLeft[\"votes\"]*100 \n",
    "\n",
    "testRight=testDF[\"Success\"]"
   ]
  },
  {
   "cell_type": "code",
   "execution_count": 19,
   "id": "d459cde3",
   "metadata": {},
   "outputs": [
    {
     "name": "stdout",
     "output_type": "stream",
     "text": [
      "Accuracy of prepared set 1 :  0.711\n"
     ]
    }
   ],
   "source": [
    "print(\"Accuracy of prepared set 1 : \", opt.score(testLeft,testRight))"
   ]
  },
  {
   "cell_type": "code",
   "execution_count": 20,
   "id": "cb066fa0",
   "metadata": {},
   "outputs": [],
   "source": [
    "testDF=pd.read_csv(\"testDataTwo.csv\")\n",
    "testLeft=testDF.drop(columns=['Success','release_date','revenue'])\n",
    "testLeft=testLeft.rename(columns={'budget':'budget',\"vote_average\":'score',\"vote_count\":'votes','year':'year'})\n",
    "testLeft=testLeft[['year', 'score', 'votes', 'budget']]\n",
    "testLeft[\"votes\"]=testLeft[\"votes\"]*100\n",
    "\n",
    "testRight=testDF[\"Success\"]"
   ]
  },
  {
   "cell_type": "code",
   "execution_count": 21,
   "id": "1e841fc4",
   "metadata": {},
   "outputs": [
    {
     "name": "stdout",
     "output_type": "stream",
     "text": [
      "Accuracy of prepared set 2 :  0.716\n"
     ]
    }
   ],
   "source": [
    "print(\"Accuracy of prepared set 2 : \", opt.score(testLeft,testRight))"
   ]
  },
  {
   "cell_type": "code",
   "execution_count": 22,
   "id": "475970e1",
   "metadata": {},
   "outputs": [],
   "source": [
    "testDF=pd.read_csv(\"testDataThree.csv\")\n",
    "testLeft=testDF.drop(columns=['Success','release_date','revenue'])\n",
    "testLeft=testLeft.rename(columns={'budget':'budget',\"vote_average\":'score',\"vote_count\":'votes','year':'year'})\n",
    "testLeft=testLeft[['year', 'score', 'votes', 'budget']]\n",
    "testLeft[\"votes\"]=testLeft[\"votes\"]*100 \n",
    "\n",
    "testRight=testDF[\"Success\"]"
   ]
  },
  {
   "cell_type": "code",
   "execution_count": 23,
   "id": "fbe9d54f",
   "metadata": {},
   "outputs": [
    {
     "name": "stdout",
     "output_type": "stream",
     "text": [
      "Accuracy of prepared set 3 :  0.758\n"
     ]
    }
   ],
   "source": [
    "print(\"Accuracy of prepared set 3 : \", opt.score(testLeft,testRight))"
   ]
  },
  {
   "cell_type": "markdown",
   "id": "319f489e",
   "metadata": {},
   "source": [
    "### The f1 score and accuracy observed indicates the model is relatively good at predicting the success of a movie and it is further supported by the high f1 scores and accuracy from the additional datasets."
   ]
  },
  {
   "cell_type": "markdown",
   "id": "b6a0a781",
   "metadata": {},
   "source": [
    "## Plot Importance (Relevance of variable)"
   ]
  },
  {
   "cell_type": "code",
   "execution_count": 24,
   "id": "e00d00bb",
   "metadata": {},
   "outputs": [
    {
     "data": {
      "text/plain": [
       "<Axes: title={'center': 'Plot Importance (Weight)'}, xlabel='Weight', ylabel='Variables'>"
      ]
     },
     "execution_count": 24,
     "metadata": {},
     "output_type": "execute_result"
    },
    {
     "data": {
      "image/png": "[encoded data removed]",
      "text/plain": [
       "<Figure size 640x480 with 1 Axes>"
      ]
     },
     "metadata": {},
     "output_type": "display_data"
    }
   ],
   "source": [
    "xgboost_step = opt.best_estimator_.steps[0]\n",
    "xgboost_model = xgboost_step[1]\n",
    "\n",
    "plot_importance(xgboost_model,grid=False,importance_type='weight',xlabel='Weight',ylabel='Variables',title=\"Plot Importance (Weight)\") \n",
    "#counts the number of times each feature appeared in the tree"
   ]
  },
  {
   "cell_type": "code",
   "execution_count": 25,
   "id": "d6e08912",
   "metadata": {},
   "outputs": [
    {
     "data": {
      "text/plain": [
       "<Axes: title={'center': 'Plot Importance (Gain)'}, xlabel='Gain', ylabel='Variables'>"
      ]
     },
     "execution_count": 25,
     "metadata": {},
     "output_type": "execute_result"
    },
    {
     "data": {
      "image/png": "[encoded data removed]",
      "text/plain": [
       "<Figure size 640x480 with 1 Axes>"
      ]
     },
     "metadata": {},
     "output_type": "display_data"
    }
   ],
   "source": [
    "plot_importance(xgboost_model,grid=False,importance_type='gain',xlabel='Gain',xlim=(0,16),ylabel='Variables',title=\"Plot Importance (Gain)\")\n",
    "#average gain of splits which use the feature"
   ]
  },
  {
   "cell_type": "code",
   "execution_count": 26,
   "id": "04cff13f",
   "metadata": {},
   "outputs": [
    {
     "data": {
      "text/plain": [
       "<Axes: title={'center': 'Plot Importance (Cover)'}, xlabel='cover', ylabel='Variables'>"
      ]
     },
     "execution_count": 26,
     "metadata": {},
     "output_type": "execute_result"
    },
    {
     "data": {
      "image/png": "[encoded data removed]",
      "text/plain": [
       "<Figure size 640x480 with 1 Axes>"
      ]
     },
     "metadata": {},
     "output_type": "display_data"
    }
   ],
   "source": [
    "plot_importance(xgboost_model,grid=False,importance_type='cover',xlabel='cover',xlim=(0,230),ylabel='Variables',title=\"Plot Importance (Cover)\") \n",
    "#number of samples affected by the split on average"
   ]
  },
  {
   "cell_type": "markdown",
   "id": "42890596",
   "metadata": {},
   "source": [
    "From the plot_importance available, the most impactful variable in predicting a successful movie is \"votes\" followed by \"budget\". This is perhaps unexpected due to how budget proves to impact gross more from the EDA and is directly tied in to the \"Success\" quantified in this project. \n",
    "\n",
    "Votes serves as an easy indicator of success when it is high enough, as votes would indirectly indicate popularity which contributes to the success. Votes to gross also have a relatively high, but lowered correlation when compared to budget to gross. Altogether making it surprising when it outweighs the other variable used to this extent."
   ]
  },
  {
   "cell_type": "markdown",
   "id": "b5a2cce8",
   "metadata": {},
   "source": [
    "Additional Observation:\n",
    "\n",
    "Given the robustness of XGBoost and the amount of variable used for this model, it is possible to hypothesize that other variables which relate to human interactions are probably required to better predict the success of movies and this is one of the better models that can be gotten for the dataset which is used. \"Votes\" which is a variable relating to human interaction had the most impact, what if there was a \"popularity\" variable of the film or \"votes\" variable which relates to popularity of the casts in the film? The randomness in reception from human interaction can only be answered by such variables."
   ]
  },
  {
   "cell_type": "markdown",
   "id": "a10654c3",
   "metadata": {},
   "source": [
    "### Additional details of model (For reference)"
   ]
  },
  {
   "cell_type": "code",
   "execution_count": 27,
   "id": "aa453bfb",
   "metadata": {},
   "outputs": [
    {
     "data": {
      "text/plain": [
       "OrderedDict([('clf__colsample_bylevel', 0.8034732278752568),\n",
       "             ('clf__colsample_bynode', 0.9994577404305747),\n",
       "             ('clf__colsample_bytree', 0.9946493734846681),\n",
       "             ('clf__gamma', 0.5212503739484576),\n",
       "             ('clf__learning_rate', 0.11656274171480678),\n",
       "             ('clf__max_depth', 7),\n",
       "             ('clf__reg_alpha', 0.7334149214536402),\n",
       "             ('clf__reg_lambda', 9.686202734050088),\n",
       "             ('clf__subsample', 0.5294781855652393)])"
      ]
     },
     "execution_count": 27,
     "metadata": {},
     "output_type": "execute_result"
    }
   ],
   "source": [
    "#The model chosen from the iteration (best)\n",
    "opt.best_params_"
   ]
  },
  {
   "cell_type": "code",
   "execution_count": 28,
   "id": "745176c5",
   "metadata": {},
   "outputs": [
    {
     "data": {
      "text/plain": [
       "{'mean_fit_time': array([0.05806561, 0.08431435, 0.08612361, 0.07154918, 0.09261332,\n",
       "        0.06605015, 0.12445297, 0.11399469, 0.08687329, 0.05100465,\n",
       "        0.03476162, 0.05993009, 0.06045747, 0.2107439 , 0.0537746 ,\n",
       "        0.06177173, 0.04916377, 0.04164991, 0.04285231, 0.20694437]),\n",
       " 'std_fit_time': array([0.00067787, 0.00138461, 0.00128786, 0.00080016, 0.00151056,\n",
       "        0.00451894, 0.00157045, 0.00204941, 0.00225051, 0.00144774,\n",
       "        0.00069621, 0.00179464, 0.00094698, 0.00723109, 0.00114312,\n",
       "        0.00235265, 0.00113701, 0.00118785, 0.00152673, 0.00200804]),\n",
       " 'mean_score_time': array([0.00220523, 0.00201225, 0.00229678, 0.00201349, 0.00212197,\n",
       "        0.00241189, 0.00272107, 0.00231328, 0.00239344, 0.00222883,\n",
       "        0.00220408, 0.00228186, 0.0021606 , 0.00309939, 0.00228729,\n",
       "        0.0024775 , 0.00251498, 0.00286746, 0.00259356, 0.00311031]),\n",
       " 'std_score_time': array([4.06107894e-04, 1.30133744e-05, 5.03998348e-04, 3.92067447e-05,\n",
       "        2.00431419e-04, 4.96603006e-04, 2.47022497e-04, 6.84052406e-04,\n",
       "        4.89336936e-04, 2.90609798e-04, 4.08169338e-04, 2.05172806e-04,\n",
       "        2.06420069e-04, 6.78808175e-04, 3.94777328e-04, 4.10477828e-04,\n",
       "        4.48031297e-04, 4.37500938e-04, 4.88363837e-04, 2.20700853e-04]),\n",
       " 'param_clf__colsample_bylevel': masked_array(data=[0.7068996145951798, 0.7480012747940454,\n",
       "                    0.6301333663690358, 0.7637854325491551,\n",
       "                    0.8648490218507954, 0.9167829650393451,\n",
       "                    0.8034732278752568, 0.601690729095387,\n",
       "                    0.9262208669228859, 0.5311413570680585, 0.5, 1.0, 0.5,\n",
       "                    0.5, 0.5, 1.0, 1.0, 0.5, 1.0, 1.0],\n",
       "              mask=[False, False, False, False, False, False, False, False,\n",
       "                    False, False, False, False, False, False, False, False,\n",
       "                    False, False, False, False],\n",
       "        fill_value='?',\n",
       "             dtype=object),\n",
       " 'param_clf__colsample_bynode': masked_array(data=[0.7866789436714683, 0.5569442670904222,\n",
       "                    0.5772919041026596, 0.7493717560821138,\n",
       "                    0.9697283465187488, 0.718809037975157,\n",
       "                    0.9994577404305747, 0.9193685096446313,\n",
       "                    0.7826567766567669, 0.5287435696739966, 1.0, 0.5, 1.0,\n",
       "                    1.0, 0.602438614291338, 1.0, 0.9623844845556611,\n",
       "                    0.5638470101747867, 0.7114408418080325, 1.0],\n",
       "              mask=[False, False, False, False, False, False, False, False,\n",
       "                    False, False, False, False, False, False, False, False,\n",
       "                    False, False, False, False],\n",
       "        fill_value='?',\n",
       "             dtype=object),\n",
       " 'param_clf__colsample_bytree': masked_array(data=[0.7413920875593052, 0.974430940548353,\n",
       "                    0.551657433031718, 0.8177958924280861,\n",
       "                    0.5642049925639632, 0.5839776754322439,\n",
       "                    0.9946493734846681, 0.7303543305078498,\n",
       "                    0.6901138359091621, 0.642928226828813, 1.0, 1.0, 1.0,\n",
       "                    1.0, 0.7981929492920252, 1.0, 1.0, 1.0, 0.5, 0.5],\n",
       "              mask=[False, False, False, False, False, False, False, False,\n",
       "                    False, False, False, False, False, False, False, False,\n",
       "                    False, False, False, False],\n",
       "        fill_value='?',\n",
       "             dtype=object),\n",
       " 'param_clf__gamma': masked_array(data=[5.628161935894934, 5.829122868393316,\n",
       "                    3.6815479504339925, 4.8487992454079,\n",
       "                    2.6018878978441555, 3.7592806242182997,\n",
       "                    0.5212503739484576, 1.502025402582792,\n",
       "                    1.748269037028123, 2.0449409040273396, 10.0,\n",
       "                    0.7881662199625866, 0.0, 0.0, 4.273509291549246, 0.0,\n",
       "                    9.485856465019488, 5.275364155580565,\n",
       "                    8.527100249324457, 0.0],\n",
       "              mask=[False, False, False, False, False, False, False, False,\n",
       "                    False, False, False, False, False, False, False, False,\n",
       "                    False, False, False, False],\n",
       "        fill_value='?',\n",
       "             dtype=object),\n",
       " 'param_clf__learning_rate': masked_array(data=[0.012671519319819562, 0.017296154879653212,\n",
       "                    0.010506169496984508, 0.030564928823661082,\n",
       "                    0.00525400638254115, 0.08124016607099983,\n",
       "                    0.11656274171480678, 0.0138930177301743,\n",
       "                    0.02662055724067818, 0.24744383619016455, 1.0, 1.0,\n",
       "                    0.11552201485853157, 1.0, 0.23788888175235487,\n",
       "                    0.29296120381039975, 0.2598860405298452, 1.0, 1.0, 1.0],\n",
       "              mask=[False, False, False, False, False, False, False, False,\n",
       "                    False, False, False, False, False, False, False, False,\n",
       "                    False, False, False, False],\n",
       "        fill_value='?',\n",
       "             dtype=object),\n",
       " 'param_clf__max_depth': masked_array(data=[2, 7, 6, 5, 9, 7, 7, 8, 9, 10, 2, 10, 2, 10, 10, 2, 10,\n",
       "                    10, 5, 10],\n",
       "              mask=[False, False, False, False, False, False, False, False,\n",
       "                    False, False, False, False, False, False, False, False,\n",
       "                    False, False, False, False],\n",
       "        fill_value='?',\n",
       "             dtype=object),\n",
       " 'param_clf__reg_alpha': masked_array(data=[0.207694536903309, 6.44021723252227,\n",
       "                    2.0678665719194282, 1.7161201957358432,\n",
       "                    5.220174879597056, 1.4558327414457142,\n",
       "                    0.7334149214536402, 1.7347965093847686,\n",
       "                    6.666196707676907, 9.918814675626928, 0.0, 10.0,\n",
       "                    3.016578027467369, 0.0, 3.3004736948537525,\n",
       "                    8.872114919579916, 3.1641504299064134,\n",
       "                    7.941352897093928, 1.6852633723072952, 0.0],\n",
       "              mask=[False, False, False, False, False, False, False, False,\n",
       "                    False, False, False, False, False, False, False, False,\n",
       "                    False, False, False, False],\n",
       "        fill_value='?',\n",
       "             dtype=object),\n",
       " 'param_clf__reg_lambda': masked_array(data=[4.470348717576788, 3.8631034873313377,\n",
       "                    7.473586589167115, 5.878181115661626,\n",
       "                    8.217370561040426, 7.04015399654471, 9.686202734050088,\n",
       "                    1.7009609157519148, 7.54391574162248,\n",
       "                    3.8094931186322722, 10.0, 10.0, 10.0, 0.0, 10.0,\n",
       "                    7.76720259419653, 10.0, 6.8589121769801595,\n",
       "                    4.865312476413722, 10.0],\n",
       "              mask=[False, False, False, False, False, False, False, False,\n",
       "                    False, False, False, False, False, False, False, False,\n",
       "                    False, False, False, False],\n",
       "        fill_value='?',\n",
       "             dtype=object),\n",
       " 'param_clf__subsample': masked_array(data=[0.6019630639218015, 0.8098954960091673,\n",
       "                    0.5752703335930668, 0.518508764150034,\n",
       "                    0.9052706402959567, 0.6512063999378815,\n",
       "                    0.5294781855652393, 0.69313338866645,\n",
       "                    0.6997279838060579, 0.5559277351871726, 1.0, 0.5, 0.5,\n",
       "                    0.7555033684741126, 0.5, 0.5, 0.7578486292798869,\n",
       "                    0.6583761581040276, 0.5, 0.5],\n",
       "              mask=[False, False, False, False, False, False, False, False,\n",
       "                    False, False, False, False, False, False, False, False,\n",
       "                    False, False, False, False],\n",
       "        fill_value='?',\n",
       "             dtype=object),\n",
       " 'params': [OrderedDict([('clf__colsample_bylevel', 0.7068996145951798),\n",
       "               ('clf__colsample_bynode', 0.7866789436714683),\n",
       "               ('clf__colsample_bytree', 0.7413920875593052),\n",
       "               ('clf__gamma', 5.628161935894934),\n",
       "               ('clf__learning_rate', 0.012671519319819562),\n",
       "               ('clf__max_depth', 2),\n",
       "               ('clf__reg_alpha', 0.207694536903309),\n",
       "               ('clf__reg_lambda', 4.470348717576788),\n",
       "               ('clf__subsample', 0.6019630639218015)]),\n",
       "  OrderedDict([('clf__colsample_bylevel', 0.7480012747940454),\n",
       "               ('clf__colsample_bynode', 0.5569442670904222),\n",
       "               ('clf__colsample_bytree', 0.974430940548353),\n",
       "               ('clf__gamma', 5.829122868393316),\n",
       "               ('clf__learning_rate', 0.017296154879653212),\n",
       "               ('clf__max_depth', 7),\n",
       "               ('clf__reg_alpha', 6.44021723252227),\n",
       "               ('clf__reg_lambda', 3.8631034873313377),\n",
       "               ('clf__subsample', 0.8098954960091673)]),\n",
       "  OrderedDict([('clf__colsample_bylevel', 0.6301333663690358),\n",
       "               ('clf__colsample_bynode', 0.5772919041026596),\n",
       "               ('clf__colsample_bytree', 0.551657433031718),\n",
       "               ('clf__gamma', 3.6815479504339925),\n",
       "               ('clf__learning_rate', 0.010506169496984508),\n",
       "               ('clf__max_depth', 6),\n",
       "               ('clf__reg_alpha', 2.0678665719194282),\n",
       "               ('clf__reg_lambda', 7.473586589167115),\n",
       "               ('clf__subsample', 0.5752703335930668)]),\n",
       "  OrderedDict([('clf__colsample_bylevel', 0.7637854325491551),\n",
       "               ('clf__colsample_bynode', 0.7493717560821138),\n",
       "               ('clf__colsample_bytree', 0.8177958924280861),\n",
       "               ('clf__gamma', 4.8487992454079),\n",
       "               ('clf__learning_rate', 0.030564928823661082),\n",
       "               ('clf__max_depth', 5),\n",
       "               ('clf__reg_alpha', 1.7161201957358432),\n",
       "               ('clf__reg_lambda', 5.878181115661626),\n",
       "               ('clf__subsample', 0.518508764150034)]),\n",
       "  OrderedDict([('clf__colsample_bylevel', 0.8648490218507954),\n",
       "               ('clf__colsample_bynode', 0.9697283465187488),\n",
       "               ('clf__colsample_bytree', 0.5642049925639632),\n",
       "               ('clf__gamma', 2.6018878978441555),\n",
       "               ('clf__learning_rate', 0.00525400638254115),\n",
       "               ('clf__max_depth', 9),\n",
       "               ('clf__reg_alpha', 5.220174879597056),\n",
       "               ('clf__reg_lambda', 8.217370561040426),\n",
       "               ('clf__subsample', 0.9052706402959567)]),\n",
       "  OrderedDict([('clf__colsample_bylevel', 0.9167829650393451),\n",
       "               ('clf__colsample_bynode', 0.718809037975157),\n",
       "               ('clf__colsample_bytree', 0.5839776754322439),\n",
       "               ('clf__gamma', 3.7592806242182997),\n",
       "               ('clf__learning_rate', 0.08124016607099983),\n",
       "               ('clf__max_depth', 7),\n",
       "               ('clf__reg_alpha', 1.4558327414457142),\n",
       "               ('clf__reg_lambda', 7.04015399654471),\n",
       "               ('clf__subsample', 0.6512063999378815)]),\n",
       "  OrderedDict([('clf__colsample_bylevel', 0.8034732278752568),\n",
       "               ('clf__colsample_bynode', 0.9994577404305747),\n",
       "               ('clf__colsample_bytree', 0.9946493734846681),\n",
       "               ('clf__gamma', 0.5212503739484576),\n",
       "               ('clf__learning_rate', 0.11656274171480678),\n",
       "               ('clf__max_depth', 7),\n",
       "               ('clf__reg_alpha', 0.7334149214536402),\n",
       "               ('clf__reg_lambda', 9.686202734050088),\n",
       "               ('clf__subsample', 0.5294781855652393)]),\n",
       "  OrderedDict([('clf__colsample_bylevel', 0.601690729095387),\n",
       "               ('clf__colsample_bynode', 0.9193685096446313),\n",
       "               ('clf__colsample_bytree', 0.7303543305078498),\n",
       "               ('clf__gamma', 1.502025402582792),\n",
       "               ('clf__learning_rate', 0.0138930177301743),\n",
       "               ('clf__max_depth', 8),\n",
       "               ('clf__reg_alpha', 1.7347965093847686),\n",
       "               ('clf__reg_lambda', 1.7009609157519148),\n",
       "               ('clf__subsample', 0.69313338866645)]),\n",
       "  OrderedDict([('clf__colsample_bylevel', 0.9262208669228859),\n",
       "               ('clf__colsample_bynode', 0.7826567766567669),\n",
       "               ('clf__colsample_bytree', 0.6901138359091621),\n",
       "               ('clf__gamma', 1.748269037028123),\n",
       "               ('clf__learning_rate', 0.02662055724067818),\n",
       "               ('clf__max_depth', 9),\n",
       "               ('clf__reg_alpha', 6.666196707676907),\n",
       "               ('clf__reg_lambda', 7.54391574162248),\n",
       "               ('clf__subsample', 0.6997279838060579)]),\n",
       "  OrderedDict([('clf__colsample_bylevel', 0.5311413570680585),\n",
       "               ('clf__colsample_bynode', 0.5287435696739966),\n",
       "               ('clf__colsample_bytree', 0.642928226828813),\n",
       "               ('clf__gamma', 2.0449409040273396),\n",
       "               ('clf__learning_rate', 0.24744383619016455),\n",
       "               ('clf__max_depth', 10),\n",
       "               ('clf__reg_alpha', 9.918814675626928),\n",
       "               ('clf__reg_lambda', 3.8094931186322722),\n",
       "               ('clf__subsample', 0.5559277351871726)]),\n",
       "  OrderedDict([('clf__colsample_bylevel', 0.5),\n",
       "               ('clf__colsample_bynode', 1.0),\n",
       "               ('clf__colsample_bytree', 1.0),\n",
       "               ('clf__gamma', 10.0),\n",
       "               ('clf__learning_rate', 1.0),\n",
       "               ('clf__max_depth', 2),\n",
       "               ('clf__reg_alpha', 0.0),\n",
       "               ('clf__reg_lambda', 10.0),\n",
       "               ('clf__subsample', 1.0)]),\n",
       "  OrderedDict([('clf__colsample_bylevel', 1.0),\n",
       "               ('clf__colsample_bynode', 0.5),\n",
       "               ('clf__colsample_bytree', 1.0),\n",
       "               ('clf__gamma', 0.7881662199625866),\n",
       "               ('clf__learning_rate', 1.0),\n",
       "               ('clf__max_depth', 10),\n",
       "               ('clf__reg_alpha', 10.0),\n",
       "               ('clf__reg_lambda', 10.0),\n",
       "               ('clf__subsample', 0.5)]),\n",
       "  OrderedDict([('clf__colsample_bylevel', 0.5),\n",
       "               ('clf__colsample_bynode', 1.0),\n",
       "               ('clf__colsample_bytree', 1.0),\n",
       "               ('clf__gamma', 0.0),\n",
       "               ('clf__learning_rate', 0.11552201485853157),\n",
       "               ('clf__max_depth', 2),\n",
       "               ('clf__reg_alpha', 3.016578027467369),\n",
       "               ('clf__reg_lambda', 10.0),\n",
       "               ('clf__subsample', 0.5)]),\n",
       "  OrderedDict([('clf__colsample_bylevel', 0.5),\n",
       "               ('clf__colsample_bynode', 1.0),\n",
       "               ('clf__colsample_bytree', 1.0),\n",
       "               ('clf__gamma', 0.0),\n",
       "               ('clf__learning_rate', 1.0),\n",
       "               ('clf__max_depth', 10),\n",
       "               ('clf__reg_alpha', 0.0),\n",
       "               ('clf__reg_lambda', 0.0),\n",
       "               ('clf__subsample', 0.7555033684741126)]),\n",
       "  OrderedDict([('clf__colsample_bylevel', 0.5),\n",
       "               ('clf__colsample_bynode', 0.602438614291338),\n",
       "               ('clf__colsample_bytree', 0.7981929492920252),\n",
       "               ('clf__gamma', 4.273509291549246),\n",
       "               ('clf__learning_rate', 0.23788888175235487),\n",
       "               ('clf__max_depth', 10),\n",
       "               ('clf__reg_alpha', 3.3004736948537525),\n",
       "               ('clf__reg_lambda', 10.0),\n",
       "               ('clf__subsample', 0.5)]),\n",
       "  OrderedDict([('clf__colsample_bylevel', 1.0),\n",
       "               ('clf__colsample_bynode', 1.0),\n",
       "               ('clf__colsample_bytree', 1.0),\n",
       "               ('clf__gamma', 0.0),\n",
       "               ('clf__learning_rate', 0.29296120381039975),\n",
       "               ('clf__max_depth', 2),\n",
       "               ('clf__reg_alpha', 8.872114919579916),\n",
       "               ('clf__reg_lambda', 7.76720259419653),\n",
       "               ('clf__subsample', 0.5)]),\n",
       "  OrderedDict([('clf__colsample_bylevel', 1.0),\n",
       "               ('clf__colsample_bynode', 0.9623844845556611),\n",
       "               ('clf__colsample_bytree', 1.0),\n",
       "               ('clf__gamma', 9.485856465019488),\n",
       "               ('clf__learning_rate', 0.2598860405298452),\n",
       "               ('clf__max_depth', 10),\n",
       "               ('clf__reg_alpha', 3.1641504299064134),\n",
       "               ('clf__reg_lambda', 10.0),\n",
       "               ('clf__subsample', 0.7578486292798869)]),\n",
       "  OrderedDict([('clf__colsample_bylevel', 0.5),\n",
       "               ('clf__colsample_bynode', 0.5638470101747867),\n",
       "               ('clf__colsample_bytree', 1.0),\n",
       "               ('clf__gamma', 5.275364155580565),\n",
       "               ('clf__learning_rate', 1.0),\n",
       "               ('clf__max_depth', 10),\n",
       "               ('clf__reg_alpha', 7.941352897093928),\n",
       "               ('clf__reg_lambda', 6.8589121769801595),\n",
       "               ('clf__subsample', 0.6583761581040276)]),\n",
       "  OrderedDict([('clf__colsample_bylevel', 1.0),\n",
       "               ('clf__colsample_bynode', 0.7114408418080325),\n",
       "               ('clf__colsample_bytree', 0.5),\n",
       "               ('clf__gamma', 8.527100249324457),\n",
       "               ('clf__learning_rate', 1.0),\n",
       "               ('clf__max_depth', 5),\n",
       "               ('clf__reg_alpha', 1.6852633723072952),\n",
       "               ('clf__reg_lambda', 4.865312476413722),\n",
       "               ('clf__subsample', 0.5)]),\n",
       "  OrderedDict([('clf__colsample_bylevel', 1.0),\n",
       "               ('clf__colsample_bynode', 1.0),\n",
       "               ('clf__colsample_bytree', 0.5),\n",
       "               ('clf__gamma', 0.0),\n",
       "               ('clf__learning_rate', 1.0),\n",
       "               ('clf__max_depth', 10),\n",
       "               ('clf__reg_alpha', 0.0),\n",
       "               ('clf__reg_lambda', 10.0),\n",
       "               ('clf__subsample', 0.5)])],\n",
       " 'split0_test_score': array([0.70011669, 0.70128355, 0.69894982, 0.71528588, 0.66861144,\n",
       "        0.72345391, 0.75612602, 0.71645274, 0.70478413, 0.73045508,\n",
       "        0.73045508, 0.7386231 , 0.74329055, 0.70011669, 0.73162194,\n",
       "        0.74445741, 0.7327888 , 0.73045508, 0.71995333, 0.7117853 ]),\n",
       " 'split1_test_score': array([0.71295216, 0.72112019, 0.71645274, 0.73512252, 0.67444574,\n",
       "        0.73628938, 0.75845974, 0.71995333, 0.72112019, 0.7386231 ,\n",
       "        0.74912485, 0.74212369, 0.73162194, 0.70361727, 0.74095683,\n",
       "        0.75729288, 0.75495916, 0.74329055, 0.74329055, 0.71528588]),\n",
       " 'split2_test_score': array([0.70911215, 0.72780374, 0.72079439, 0.73598131, 0.67757009,\n",
       "        0.73481308, 0.75      , 0.71261682, 0.72663551, 0.7453271 ,\n",
       "        0.73364486, 0.7546729 , 0.74766355, 0.67406542, 0.74883178,\n",
       "        0.74182243, 0.73364486, 0.74649533, 0.7453271 , 0.69509346]),\n",
       " 'split3_test_score': array([0.7067757 , 0.7067757 , 0.7114486 , 0.71378505, 0.66705607,\n",
       "        0.71962617, 0.75934579, 0.7114486 , 0.70327103, 0.73481308,\n",
       "        0.72897196, 0.75817757, 0.74649533, 0.69976636, 0.73598131,\n",
       "        0.75116822, 0.73130841, 0.73014019, 0.75584112, 0.70443925]),\n",
       " 'split4_test_score': array([0.73481308, 0.73481308, 0.73247664, 0.74766355, 0.69859813,\n",
       "        0.7453271 , 0.76401869, 0.72897196, 0.73481308, 0.76518692,\n",
       "        0.76401869, 0.76752336, 0.77686916, 0.7021028 , 0.76285047,\n",
       "        0.76752336, 0.76051402, 0.76285047, 0.75116822, 0.71378505]),\n",
       " 'mean_test_score': array([0.71275396, 0.71835925, 0.71602444, 0.72956766, 0.6772563 ,\n",
       "        0.73190193, 0.75759005, 0.71788869, 0.71812479, 0.74288106,\n",
       "        0.74124309, 0.75222412, 0.7491881 , 0.69593371, 0.74404846,\n",
       "        0.75245286, 0.74264305, 0.74264632, 0.74311606, 0.70807779]),\n",
       " 'std_test_score': array([0.01179277, 0.01259609, 0.01100992, 0.01305766, 0.01133358,\n",
       "        0.00927387, 0.0045808 , 0.0062997 , 0.01231675, 0.01217507,\n",
       "        0.01345768, 0.01060673, 0.01496107, 0.01102273, 0.0110041 ,\n",
       "        0.00926423, 0.01247081, 0.01207035, 0.01239513, 0.00748474]),\n",
       " 'rank_test_score': array([17, 13, 16, 12, 20, 11,  1, 15, 14,  7, 10,  3,  4, 19,  5,  2,  9,\n",
       "         8,  6, 18])}"
      ]
     },
     "execution_count": 28,
     "metadata": {},
     "output_type": "execute_result"
    }
   ],
   "source": [
    "opt.cv_results_"
   ]
  },
  {
   "cell_type": "code",
   "execution_count": 29,
   "id": "62ea31c2",
   "metadata": {},
   "outputs": [
    {
     "data": {
      "text/html": [
       "<style>#sk-container-id-4 {color: black;}#sk-container-id-4 pre{padding: 0;}#sk-container-id-4 div.sk-toggleable {background-color: white;}#sk-container-id-4 label.sk-toggleable__label {cursor: pointer;display: block;width: 100%;margin-bottom: 0;padding: 0.3em;box-sizing: border-box;text-align: center;}#sk-container-id-4 label.sk-toggleable__label-arrow:before {content: \"▸\";float: left;margin-right: 0.25em;color: #696969;}#sk-container-id-4 label.sk-toggleable__label-arrow:hover:before {color: black;}#sk-container-id-4 div.sk-estimator:hover label.sk-toggleable__label-arrow:before {color: black;}#sk-container-id-4 div.sk-toggleable__content {max-height: 0;max-width: 0;overflow: hidden;text-align: left;background-color: #f0f8ff;}#sk-container-id-4 div.sk-toggleable__content pre {margin: 0.2em;color: black;border-radius: 0.25em;background-color: #f0f8ff;}#sk-container-id-4 input.sk-toggleable__control:checked~div.sk-toggleable__content {max-height: 200px;max-width: 100%;overflow: auto;}#sk-container-id-4 input.sk-toggleable__control:checked~label.sk-toggleable__label-arrow:before {content: \"▾\";}#sk-container-id-4 div.sk-estimator input.sk-toggleable__control:checked~label.sk-toggleable__label {background-color: #d4ebff;}#sk-container-id-4 div.sk-label input.sk-toggleable__control:checked~label.sk-toggleable__label {background-color: #d4ebff;}#sk-container-id-4 input.sk-hidden--visually {border: 0;clip: rect(1px 1px 1px 1px);clip: rect(1px, 1px, 1px, 1px);height: 1px;margin: -1px;overflow: hidden;padding: 0;position: absolute;width: 1px;}#sk-container-id-4 div.sk-estimator {font-family: monospace;background-color: #f0f8ff;border: 1px dotted black;border-radius: 0.25em;box-sizing: border-box;margin-bottom: 0.5em;}#sk-container-id-4 div.sk-estimator:hover {background-color: #d4ebff;}#sk-container-id-4 div.sk-parallel-item::after {content: \"\";width: 100%;border-bottom: 1px solid gray;flex-grow: 1;}#sk-container-id-4 div.sk-label:hover label.sk-toggleable__label {background-color: #d4ebff;}#sk-container-id-4 div.sk-serial::before {content: \"\";position: absolute;border-left: 1px solid gray;box-sizing: border-box;top: 0;bottom: 0;left: 50%;z-index: 0;}#sk-container-id-4 div.sk-serial {display: flex;flex-direction: column;align-items: center;background-color: white;padding-right: 0.2em;padding-left: 0.2em;position: relative;}#sk-container-id-4 div.sk-item {position: relative;z-index: 1;}#sk-container-id-4 div.sk-parallel {display: flex;align-items: stretch;justify-content: center;background-color: white;position: relative;}#sk-container-id-4 div.sk-item::before, #sk-container-id-4 div.sk-parallel-item::before {content: \"\";position: absolute;border-left: 1px solid gray;box-sizing: border-box;top: 0;bottom: 0;left: 50%;z-index: -1;}#sk-container-id-4 div.sk-parallel-item {display: flex;flex-direction: column;z-index: 1;position: relative;background-color: white;}#sk-container-id-4 div.sk-parallel-item:first-child::after {align-self: flex-end;width: 50%;}#sk-container-id-4 div.sk-parallel-item:last-child::after {align-self: flex-start;width: 50%;}#sk-container-id-4 div.sk-parallel-item:only-child::after {width: 0;}#sk-container-id-4 div.sk-dashed-wrapped {border: 1px dashed gray;margin: 0 0.4em 0.5em 0.4em;box-sizing: border-box;padding-bottom: 0.4em;background-color: white;}#sk-container-id-4 div.sk-label label {font-family: monospace;font-weight: bold;display: inline-block;line-height: 1.2em;}#sk-container-id-4 div.sk-label-container {text-align: center;}#sk-container-id-4 div.sk-container {/* jupyter's `normalize.less` sets `[hidden] { display: none; }` but bootstrap.min.css set `[hidden] { display: none !important; }` so we also need the `!important` here to be able to override the default hidden behavior on the sphinx rendered scikit-learn.org. See: https://github.com/scikit-learn/scikit-learn/issues/21755 */display: inline-block !important;position: relative;}#sk-container-id-4 div.sk-text-repr-fallback {display: none;}</style><div id=\"sk-container-id-4\" class=\"sk-top-container\"><div class=\"sk-text-repr-fallback\"><pre>Pipeline(steps=[(&#x27;clf&#x27;,\n",
       "                 XGBClassifier(base_score=None, booster=None, callbacks=None,\n",
       "                               colsample_bylevel=0.8034732278752568,\n",
       "                               colsample_bynode=0.9994577404305747,\n",
       "                               colsample_bytree=0.9946493734846681, device=None,\n",
       "                               early_stopping_rounds=None,\n",
       "                               enable_categorical=False, eval_metric=None,\n",
       "                               feature_types=None, gamma=0.5212503739484576,\n",
       "                               grow_policy=None, importance_type=None,\n",
       "                               interaction_constraints=None,\n",
       "                               learning_rate=0.11656274171480678, max_bin=None,\n",
       "                               max_cat_threshold=None, max_cat_to_onehot=None,\n",
       "                               max_delta_step=None, max_depth=7,\n",
       "                               max_leaves=None, min_child_weight=None,\n",
       "                               missing=nan, monotone_constraints=None,\n",
       "                               multi_strategy=None, n_estimators=None,\n",
       "                               n_jobs=None, num_parallel_tree=None,\n",
       "                               random_state=20, ...))])</pre><b>In a Jupyter environment, please rerun this cell to show the HTML representation or trust the notebook. <br />On GitHub, the HTML representation is unable to render, please try loading this page with nbviewer.org.</b></div><div class=\"sk-container\" hidden><div class=\"sk-item sk-dashed-wrapped\"><div class=\"sk-label-container\"><div class=\"sk-label sk-toggleable\"><input class=\"sk-toggleable__control sk-hidden--visually\" id=\"sk-estimator-id-9\" type=\"checkbox\" ><label for=\"sk-estimator-id-9\" class=\"sk-toggleable__label sk-toggleable__label-arrow\">Pipeline</label><div class=\"sk-toggleable__content\"><pre>Pipeline(steps=[(&#x27;clf&#x27;,\n",
       "                 XGBClassifier(base_score=None, booster=None, callbacks=None,\n",
       "                               colsample_bylevel=0.8034732278752568,\n",
       "                               colsample_bynode=0.9994577404305747,\n",
       "                               colsample_bytree=0.9946493734846681, device=None,\n",
       "                               early_stopping_rounds=None,\n",
       "                               enable_categorical=False, eval_metric=None,\n",
       "                               feature_types=None, gamma=0.5212503739484576,\n",
       "                               grow_policy=None, importance_type=None,\n",
       "                               interaction_constraints=None,\n",
       "                               learning_rate=0.11656274171480678, max_bin=None,\n",
       "                               max_cat_threshold=None, max_cat_to_onehot=None,\n",
       "                               max_delta_step=None, max_depth=7,\n",
       "                               max_leaves=None, min_child_weight=None,\n",
       "                               missing=nan, monotone_constraints=None,\n",
       "                               multi_strategy=None, n_estimators=None,\n",
       "                               n_jobs=None, num_parallel_tree=None,\n",
       "                               random_state=20, ...))])</pre></div></div></div><div class=\"sk-serial\"><div class=\"sk-item\"><div class=\"sk-estimator sk-toggleable\"><input class=\"sk-toggleable__control sk-hidden--visually\" id=\"sk-estimator-id-10\" type=\"checkbox\" ><label for=\"sk-estimator-id-10\" class=\"sk-toggleable__label sk-toggleable__label-arrow\">XGBClassifier</label><div class=\"sk-toggleable__content\"><pre>XGBClassifier(base_score=None, booster=None, callbacks=None,\n",
       "              colsample_bylevel=0.8034732278752568,\n",
       "              colsample_bynode=0.9994577404305747,\n",
       "              colsample_bytree=0.9946493734846681, device=None,\n",
       "              early_stopping_rounds=None, enable_categorical=False,\n",
       "              eval_metric=None, feature_types=None, gamma=0.5212503739484576,\n",
       "              grow_policy=None, importance_type=None,\n",
       "              interaction_constraints=None, learning_rate=0.11656274171480678,\n",
       "              max_bin=None, max_cat_threshold=None, max_cat_to_onehot=None,\n",
       "              max_delta_step=None, max_depth=7, max_leaves=None,\n",
       "              min_child_weight=None, missing=nan, monotone_constraints=None,\n",
       "              multi_strategy=None, n_estimators=None, n_jobs=None,\n",
       "              num_parallel_tree=None, random_state=20, ...)</pre></div></div></div></div></div></div></div>"
      ],
      "text/plain": [
       "Pipeline(steps=[('clf',\n",
       "                 XGBClassifier(base_score=None, booster=None, callbacks=None,\n",
       "                               colsample_bylevel=0.8034732278752568,\n",
       "                               colsample_bynode=0.9994577404305747,\n",
       "                               colsample_bytree=0.9946493734846681, device=None,\n",
       "                               early_stopping_rounds=None,\n",
       "                               enable_categorical=False, eval_metric=None,\n",
       "                               feature_types=None, gamma=0.5212503739484576,\n",
       "                               grow_policy=None, importance_type=None,\n",
       "                               interaction_constraints=None,\n",
       "                               learning_rate=0.11656274171480678, max_bin=None,\n",
       "                               max_cat_threshold=None, max_cat_to_onehot=None,\n",
       "                               max_delta_step=None, max_depth=7,\n",
       "                               max_leaves=None, min_child_weight=None,\n",
       "                               missing=nan, monotone_constraints=None,\n",
       "                               multi_strategy=None, n_estimators=None,\n",
       "                               n_jobs=None, num_parallel_tree=None,\n",
       "                               random_state=20, ...))])"
      ]
     },
     "execution_count": 29,
     "metadata": {},
     "output_type": "execute_result"
    }
   ],
   "source": [
    "opt.best_estimator_"
   ]
  },
  {
   "cell_type": "code",
   "execution_count": 30,
   "id": "256ee7ce",
   "metadata": {},
   "outputs": [
    {
     "data": {
      "text/plain": [
       "[('clf',\n",
       "  XGBClassifier(base_score=None, booster=None, callbacks=None,\n",
       "                colsample_bylevel=0.8034732278752568,\n",
       "                colsample_bynode=0.9994577404305747,\n",
       "                colsample_bytree=0.9946493734846681, device=None,\n",
       "                early_stopping_rounds=None, enable_categorical=False,\n",
       "                eval_metric=None, feature_types=None, gamma=0.5212503739484576,\n",
       "                grow_policy=None, importance_type=None,\n",
       "                interaction_constraints=None, learning_rate=0.11656274171480678,\n",
       "                max_bin=None, max_cat_threshold=None, max_cat_to_onehot=None,\n",
       "                max_delta_step=None, max_depth=7, max_leaves=None,\n",
       "                min_child_weight=None, missing=nan, monotone_constraints=None,\n",
       "                multi_strategy=None, n_estimators=None, n_jobs=None,\n",
       "                num_parallel_tree=None, random_state=20, ...))]"
      ]
     },
     "execution_count": 30,
     "metadata": {},
     "output_type": "execute_result"
    }
   ],
   "source": [
    "opt.best_estimator_.steps"
   ]
  },
  {
   "cell_type": "code",
   "execution_count": null,
   "id": "db84b16f",
   "metadata": {},
   "outputs": [],
   "source": []
  }
 ],
 "metadata": {
  "kernelspec": {
   "display_name": "Python 3 (ipykernel)",
   "language": "python",
   "name": "python3"
  },
  "language_info": {
   "codemirror_mode": {
    "name": "ipython",
    "version": 3
   },
   "file_extension": ".py",
   "mimetype": "text/x-python",
   "name": "python",
   "nbconvert_exporter": "python",
   "pygments_lexer": "ipython3",
   "version": "3.11.5"
  }
 },
 "nbformat": 4,
 "nbformat_minor": 5
}
