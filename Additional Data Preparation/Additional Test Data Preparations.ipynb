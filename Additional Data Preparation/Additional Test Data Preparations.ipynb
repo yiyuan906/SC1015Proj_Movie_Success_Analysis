{
 "cells": [
  {
   "cell_type": "markdown",
   "id": "2cd97e12",
   "metadata": {},
   "source": [
    "https://www.kaggle.com/datasets/tmdb/tmdb-movie-metadata?select=tmdb_5000_movies.csv"
   ]
  },
  {
   "cell_type": "code",
   "execution_count": 1,
   "id": "cd09571e",
   "metadata": {},
   "outputs": [],
   "source": [
    "import numpy as np\n",
    "import pandas as pd\n",
    "import matplotlib.pyplot as plt \n",
    "import datetime\n",
    "\n",
    "pd.set_option('display.max_rows', None)"
   ]
  },
  {
   "cell_type": "code",
   "execution_count": 2,
   "id": "082548a9",
   "metadata": {},
   "outputs": [],
   "source": [
    "#Filtered columns are what will be used by the ML models as well\n",
    "col = [\"budget\",\"revenue\",\"vote_average\",\"vote_count\",\"release_date\"]\n",
    "baseDF = pd.read_csv(\"tmdb_5000_movies.csv\",usecols=col)"
   ]
  },
  {
   "cell_type": "code",
   "execution_count": 3,
   "id": "44789c60",
   "metadata": {},
   "outputs": [
    {
     "name": "stdout",
     "output_type": "stream",
     "text": [
      "<class 'pandas.core.frame.DataFrame'>\n",
      "RangeIndex: 4803 entries, 0 to 4802\n",
      "Data columns (total 5 columns):\n",
      " #   Column        Non-Null Count  Dtype  \n",
      "---  ------        --------------  -----  \n",
      " 0   budget        4803 non-null   int64  \n",
      " 1   release_date  4802 non-null   object \n",
      " 2   revenue       4803 non-null   int64  \n",
      " 3   vote_average  4803 non-null   float64\n",
      " 4   vote_count    4803 non-null   int64  \n",
      "dtypes: float64(1), int64(3), object(1)\n",
      "memory usage: 187.7+ KB\n"
     ]
    }
   ],
   "source": [
    "baseDF.info()"
   ]
  },
  {
   "cell_type": "code",
   "execution_count": 5,
   "id": "73d525d8",
   "metadata": {},
   "outputs": [],
   "source": [
    "#Conversion of Dataframe to original Dataframe used for the project\n",
    "baseDF[\"release_date\"] = pd.to_datetime(baseDF.release_date)\n",
    "baseDF[\"year\"]= baseDF[\"release_date\"].dt.strftime(\"%Y\")\n",
    "baseDF.drop(columns=\"release_date\")\n",
    "baseDF=baseDF[baseDF[\"revenue\"]!=0]\n",
    "baseDF=baseDF[baseDF[\"budget\"]!=0]\n",
    "\n",
    "succCOL = pd.DataFrame((baseDF[\"revenue\"]-baseDF[\"budget\"]*1.5)>0)\n",
    "baseDF[\"Success\"] = succCOL\n",
    "\n",
    "#Shuffling of the rows to simulate random\n",
    "baseDF = baseDF.sample(frac = 1)"
   ]
  },
  {
   "cell_type": "code",
   "execution_count": 6,
   "id": "9a8a1340",
   "metadata": {
    "scrolled": true
   },
   "outputs": [
    {
     "name": "stdout",
     "output_type": "stream",
     "text": [
      "<class 'pandas.core.frame.DataFrame'>\n",
      "Index: 3229 entries, 1136 to 240\n",
      "Data columns (total 7 columns):\n",
      " #   Column        Non-Null Count  Dtype         \n",
      "---  ------        --------------  -----         \n",
      " 0   budget        3229 non-null   int64         \n",
      " 1   release_date  3229 non-null   datetime64[ns]\n",
      " 2   revenue       3229 non-null   int64         \n",
      " 3   vote_average  3229 non-null   float64       \n",
      " 4   vote_count    3229 non-null   int64         \n",
      " 5   year          3229 non-null   object        \n",
      " 6   Success       3229 non-null   bool          \n",
      "dtypes: bool(1), datetime64[ns](1), float64(1), int64(3), object(1)\n",
      "memory usage: 179.7+ KB\n"
     ]
    }
   ],
   "source": [
    "baseDF.info()"
   ]
  },
  {
   "cell_type": "markdown",
   "id": "79f09cba",
   "metadata": {},
   "source": [
    "The process below separates the Dataframe into 3 Dataframes which contain 1000 rows each."
   ]
  },
  {
   "cell_type": "code",
   "execution_count": 7,
   "id": "c51c63e5",
   "metadata": {},
   "outputs": [],
   "source": [
    "dataOne=baseDF.head(1000)"
   ]
  },
  {
   "cell_type": "code",
   "execution_count": 8,
   "id": "b1804f61",
   "metadata": {},
   "outputs": [],
   "source": [
    "dataSec=baseDF[~baseDF.index.isin(dataOne.index)]"
   ]
  },
  {
   "cell_type": "code",
   "execution_count": 9,
   "id": "330f30b0",
   "metadata": {},
   "outputs": [],
   "source": [
    "dataTwo=dataSec.head(1000)"
   ]
  },
  {
   "cell_type": "code",
   "execution_count": 10,
   "id": "45846da7",
   "metadata": {},
   "outputs": [],
   "source": [
    "dataSec=dataSec[~dataSec.index.isin(dataTwo.index)]"
   ]
  },
  {
   "cell_type": "code",
   "execution_count": 11,
   "id": "21243df8",
   "metadata": {},
   "outputs": [],
   "source": [
    "dataThree=dataSec.head(1000)"
   ]
  },
  {
   "cell_type": "code",
   "execution_count": 12,
   "id": "15a3b8e9",
   "metadata": {},
   "outputs": [
    {
     "data": {
      "text/html": [
       "<div>\n",
       "<style scoped>\n",
       "    .dataframe tbody tr th:only-of-type {\n",
       "        vertical-align: middle;\n",
       "    }\n",
       "\n",
       "    .dataframe tbody tr th {\n",
       "        vertical-align: top;\n",
       "    }\n",
       "\n",
       "    .dataframe thead th {\n",
       "        text-align: right;\n",
       "    }\n",
       "</style>\n",
       "<table border=\"1\" class=\"dataframe\">\n",
       "  <thead>\n",
       "    <tr style=\"text-align: right;\">\n",
       "      <th></th>\n",
       "      <th>budget</th>\n",
       "      <th>release_date</th>\n",
       "      <th>revenue</th>\n",
       "      <th>vote_average</th>\n",
       "      <th>vote_count</th>\n",
       "      <th>year</th>\n",
       "      <th>Success</th>\n",
       "    </tr>\n",
       "  </thead>\n",
       "  <tbody>\n",
       "    <tr>\n",
       "      <th>1136</th>\n",
       "      <td>31000000</td>\n",
       "      <td>2002-12-19</td>\n",
       "      <td>177394432</td>\n",
       "      <td>7.2</td>\n",
       "      <td>635</td>\n",
       "      <td>2002</td>\n",
       "      <td>True</td>\n",
       "    </tr>\n",
       "    <tr>\n",
       "      <th>633</th>\n",
       "      <td>65000000</td>\n",
       "      <td>2012-11-09</td>\n",
       "      <td>275293450</td>\n",
       "      <td>6.7</td>\n",
       "      <td>1429</td>\n",
       "      <td>2012</td>\n",
       "      <td>True</td>\n",
       "    </tr>\n",
       "    <tr>\n",
       "      <th>1544</th>\n",
       "      <td>31000000</td>\n",
       "      <td>2010-01-21</td>\n",
       "      <td>15134293</td>\n",
       "      <td>6.0</td>\n",
       "      <td>89</td>\n",
       "      <td>2010</td>\n",
       "      <td>False</td>\n",
       "    </tr>\n",
       "    <tr>\n",
       "      <th>364</th>\n",
       "      <td>90000000</td>\n",
       "      <td>2003-11-25</td>\n",
       "      <td>182290266</td>\n",
       "      <td>5.2</td>\n",
       "      <td>466</td>\n",
       "      <td>2003</td>\n",
       "      <td>True</td>\n",
       "    </tr>\n",
       "    <tr>\n",
       "      <th>1832</th>\n",
       "      <td>25000000</td>\n",
       "      <td>2000-12-14</td>\n",
       "      <td>152500343</td>\n",
       "      <td>6.8</td>\n",
       "      <td>951</td>\n",
       "      <td>2000</td>\n",
       "      <td>True</td>\n",
       "    </tr>\n",
       "  </tbody>\n",
       "</table>\n",
       "</div>"
      ],
      "text/plain": [
       "        budget release_date    revenue  vote_average  vote_count  year  \\\n",
       "1136  31000000   2002-12-19  177394432           7.2         635  2002   \n",
       "633   65000000   2012-11-09  275293450           6.7        1429  2012   \n",
       "1544  31000000   2010-01-21   15134293           6.0          89  2010   \n",
       "364   90000000   2003-11-25  182290266           5.2         466  2003   \n",
       "1832  25000000   2000-12-14  152500343           6.8         951  2000   \n",
       "\n",
       "      Success  \n",
       "1136     True  \n",
       "633      True  \n",
       "1544    False  \n",
       "364      True  \n",
       "1832     True  "
      ]
     },
     "execution_count": 12,
     "metadata": {},
     "output_type": "execute_result"
    }
   ],
   "source": [
    "dataOne.head()"
   ]
  },
  {
   "cell_type": "code",
   "execution_count": 13,
   "id": "c88bb648",
   "metadata": {},
   "outputs": [
    {
     "data": {
      "text/html": [
       "<div>\n",
       "<style scoped>\n",
       "    .dataframe tbody tr th:only-of-type {\n",
       "        vertical-align: middle;\n",
       "    }\n",
       "\n",
       "    .dataframe tbody tr th {\n",
       "        vertical-align: top;\n",
       "    }\n",
       "\n",
       "    .dataframe thead th {\n",
       "        text-align: right;\n",
       "    }\n",
       "</style>\n",
       "<table border=\"1\" class=\"dataframe\">\n",
       "  <thead>\n",
       "    <tr style=\"text-align: right;\">\n",
       "      <th></th>\n",
       "      <th>budget</th>\n",
       "      <th>release_date</th>\n",
       "      <th>revenue</th>\n",
       "      <th>vote_average</th>\n",
       "      <th>vote_count</th>\n",
       "      <th>year</th>\n",
       "      <th>Success</th>\n",
       "    </tr>\n",
       "  </thead>\n",
       "  <tbody>\n",
       "    <tr>\n",
       "      <th>1654</th>\n",
       "      <td>25000000</td>\n",
       "      <td>2004-04-30</td>\n",
       "      <td>30114487</td>\n",
       "      <td>4.7</td>\n",
       "      <td>114</td>\n",
       "      <td>2004</td>\n",
       "      <td>False</td>\n",
       "    </tr>\n",
       "    <tr>\n",
       "      <th>3512</th>\n",
       "      <td>5300000</td>\n",
       "      <td>2002-05-17</td>\n",
       "      <td>3897799</td>\n",
       "      <td>7.0</td>\n",
       "      <td>266</td>\n",
       "      <td>2002</td>\n",
       "      <td>False</td>\n",
       "    </tr>\n",
       "    <tr>\n",
       "      <th>3</th>\n",
       "      <td>250000000</td>\n",
       "      <td>2012-07-16</td>\n",
       "      <td>1084939099</td>\n",
       "      <td>7.6</td>\n",
       "      <td>9106</td>\n",
       "      <td>2012</td>\n",
       "      <td>True</td>\n",
       "    </tr>\n",
       "    <tr>\n",
       "      <th>2979</th>\n",
       "      <td>28000000</td>\n",
       "      <td>2000-08-25</td>\n",
       "      <td>90449929</td>\n",
       "      <td>5.8</td>\n",
       "      <td>568</td>\n",
       "      <td>2000</td>\n",
       "      <td>True</td>\n",
       "    </tr>\n",
       "    <tr>\n",
       "      <th>651</th>\n",
       "      <td>65000000</td>\n",
       "      <td>2014-12-19</td>\n",
       "      <td>133821816</td>\n",
       "      <td>6.0</td>\n",
       "      <td>466</td>\n",
       "      <td>2014</td>\n",
       "      <td>True</td>\n",
       "    </tr>\n",
       "  </tbody>\n",
       "</table>\n",
       "</div>"
      ],
      "text/plain": [
       "         budget release_date     revenue  vote_average  vote_count  year  \\\n",
       "1654   25000000   2004-04-30    30114487           4.7         114  2004   \n",
       "3512    5300000   2002-05-17     3897799           7.0         266  2002   \n",
       "3     250000000   2012-07-16  1084939099           7.6        9106  2012   \n",
       "2979   28000000   2000-08-25    90449929           5.8         568  2000   \n",
       "651    65000000   2014-12-19   133821816           6.0         466  2014   \n",
       "\n",
       "      Success  \n",
       "1654    False  \n",
       "3512    False  \n",
       "3        True  \n",
       "2979     True  \n",
       "651      True  "
      ]
     },
     "execution_count": 13,
     "metadata": {},
     "output_type": "execute_result"
    }
   ],
   "source": [
    "dataTwo.head()"
   ]
  },
  {
   "cell_type": "code",
   "execution_count": 14,
   "id": "264318c6",
   "metadata": {},
   "outputs": [
    {
     "data": {
      "text/html": [
       "<div>\n",
       "<style scoped>\n",
       "    .dataframe tbody tr th:only-of-type {\n",
       "        vertical-align: middle;\n",
       "    }\n",
       "\n",
       "    .dataframe tbody tr th {\n",
       "        vertical-align: top;\n",
       "    }\n",
       "\n",
       "    .dataframe thead th {\n",
       "        text-align: right;\n",
       "    }\n",
       "</style>\n",
       "<table border=\"1\" class=\"dataframe\">\n",
       "  <thead>\n",
       "    <tr style=\"text-align: right;\">\n",
       "      <th></th>\n",
       "      <th>budget</th>\n",
       "      <th>release_date</th>\n",
       "      <th>revenue</th>\n",
       "      <th>vote_average</th>\n",
       "      <th>vote_count</th>\n",
       "      <th>year</th>\n",
       "      <th>Success</th>\n",
       "    </tr>\n",
       "  </thead>\n",
       "  <tbody>\n",
       "    <tr>\n",
       "      <th>2913</th>\n",
       "      <td>11500000</td>\n",
       "      <td>2016-01-21</td>\n",
       "      <td>94073028</td>\n",
       "      <td>5.7</td>\n",
       "      <td>1406</td>\n",
       "      <td>2016</td>\n",
       "      <td>True</td>\n",
       "    </tr>\n",
       "    <tr>\n",
       "      <th>1233</th>\n",
       "      <td>40000000</td>\n",
       "      <td>2005-11-09</td>\n",
       "      <td>46442528</td>\n",
       "      <td>6.3</td>\n",
       "      <td>186</td>\n",
       "      <td>2005</td>\n",
       "      <td>False</td>\n",
       "    </tr>\n",
       "    <tr>\n",
       "      <th>4082</th>\n",
       "      <td>1000000</td>\n",
       "      <td>2011-09-30</td>\n",
       "      <td>34522221</td>\n",
       "      <td>6.8</td>\n",
       "      <td>77</td>\n",
       "      <td>2011</td>\n",
       "      <td>True</td>\n",
       "    </tr>\n",
       "    <tr>\n",
       "      <th>712</th>\n",
       "      <td>55000000</td>\n",
       "      <td>1999-12-16</td>\n",
       "      <td>100230832</td>\n",
       "      <td>6.8</td>\n",
       "      <td>422</td>\n",
       "      <td>1999</td>\n",
       "      <td>True</td>\n",
       "    </tr>\n",
       "    <tr>\n",
       "      <th>1946</th>\n",
       "      <td>25000000</td>\n",
       "      <td>2009-09-11</td>\n",
       "      <td>10589102</td>\n",
       "      <td>6.0</td>\n",
       "      <td>326</td>\n",
       "      <td>2009</td>\n",
       "      <td>False</td>\n",
       "    </tr>\n",
       "  </tbody>\n",
       "</table>\n",
       "</div>"
      ],
      "text/plain": [
       "        budget release_date    revenue  vote_average  vote_count  year  \\\n",
       "2913  11500000   2016-01-21   94073028           5.7        1406  2016   \n",
       "1233  40000000   2005-11-09   46442528           6.3         186  2005   \n",
       "4082   1000000   2011-09-30   34522221           6.8          77  2011   \n",
       "712   55000000   1999-12-16  100230832           6.8         422  1999   \n",
       "1946  25000000   2009-09-11   10589102           6.0         326  2009   \n",
       "\n",
       "      Success  \n",
       "2913     True  \n",
       "1233    False  \n",
       "4082     True  \n",
       "712      True  \n",
       "1946    False  "
      ]
     },
     "execution_count": 14,
     "metadata": {},
     "output_type": "execute_result"
    }
   ],
   "source": [
    "dataThree.head()"
   ]
  },
  {
   "cell_type": "code",
   "execution_count": 15,
   "id": "4d8e1415",
   "metadata": {},
   "outputs": [],
   "source": [
    "#Export of the Dataframe\n",
    "dataOne.to_csv(\"testDataOne.csv\",index=False)\n",
    "dataTwo.to_csv(\"testDataTwo.csv\",index=False)\n",
    "dataThree.to_csv(\"testDataThree.csv\",index=False)"
   ]
  },
  {
   "cell_type": "code",
   "execution_count": null,
   "id": "b5658f48",
   "metadata": {},
   "outputs": [],
   "source": []
  }
 ],
 "metadata": {
  "kernelspec": {
   "display_name": "Python 3 (ipykernel)",
   "language": "python",
   "name": "python3"
  },
  "language_info": {
   "codemirror_mode": {
    "name": "ipython",
    "version": 3
   },
   "file_extension": ".py",
   "mimetype": "text/x-python",
   "name": "python",
   "nbconvert_exporter": "python",
   "pygments_lexer": "ipython3",
   "version": "3.11.5"
  }
 },
 "nbformat": 4,
 "nbformat_minor": 5
}
